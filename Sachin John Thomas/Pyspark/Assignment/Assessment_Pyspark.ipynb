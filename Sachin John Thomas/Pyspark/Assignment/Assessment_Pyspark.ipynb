{
 "cells": [
  {
   "cell_type": "code",
   "execution_count": 1,
   "id": "4d31d141-637d-44d8-8362-b4c2f07df36b",
   "metadata": {},
   "outputs": [
    {
     "data": {
      "text/html": [
       "\n",
       "            <div>\n",
       "                <p><b>SparkSession - in-memory</b></p>\n",
       "                \n",
       "        <div>\n",
       "            <p><b>SparkContext</b></p>\n",
       "\n",
       "            <p><a href=\"http://172.19.3.174:4040\">Spark UI</a></p>\n",
       "\n",
       "            <dl>\n",
       "              <dt>Version</dt>\n",
       "                <dd><code>v3.5.5</code></dd>\n",
       "              <dt>Master</dt>\n",
       "                <dd><code>local[*]</code></dd>\n",
       "              <dt>AppName</dt>\n",
       "                <dd><code>MySparkApp</code></dd>\n",
       "            </dl>\n",
       "        </div>\n",
       "        \n",
       "            </div>\n",
       "        "
      ],
      "text/plain": [
       "<pyspark.sql.session.SparkSession at 0x27b7600f8d0>"
      ]
     },
     "execution_count": 1,
     "metadata": {},
     "output_type": "execute_result"
    }
   ],
   "source": [
    "from pyspark.sql import SparkSession\n",
    "spark = SparkSession.builder.appName(\"MySparkApp\").master(\"local[*]\").getOrCreate()\n",
    "from pyspark.sql.functions import col,count,avg, month, year, to_date, current_date, when\n",
    "spark"
   ]
  },
  {
   "cell_type": "code",
   "execution_count": 2,
   "id": "07d21a9f-2fdd-4387-99d0-027c3d381bdc",
   "metadata": {},
   "outputs": [],
   "source": [
    "customer_df = spark.read.csv(\"Uber/Uber/Customer_table.csv\", header = True, inferSchema = True)"
   ]
  },
  {
   "cell_type": "code",
   "execution_count": 3,
   "id": "20c9036b-c4eb-4572-b26d-fe9734dbfba1",
   "metadata": {},
   "outputs": [
    {
     "name": "stdout",
     "output_type": "stream",
     "text": [
      "+---------------+--------------+-----------+-------------------+-------------+-------+---------------+---------------+-------------+---------+------------+---------------+--------------+----------------------+---------+----------------+------------+--------------+----------------+--------+-----------+\n",
      "|Pickup DateTime| Drop DateTime|Driver Name|Driver Phone Number|Trip Distance|Trip ID|Pickup Location|  Drop Location|Trip Duration|Trip Fare|Vehicle Type|   Trip Purpose|Passenger Name|Passenger Phone Number|Scheduled|Passenger Rating|Driver Rated|Payment Method|Payment Discount|Net Fare|Trip Status|\n",
      "+---------------+--------------+-----------+-------------------+-------------+-------+---------------+---------------+-------------+---------+------------+---------------+--------------+----------------------+---------+----------------+------------+--------------+----------------+--------+-----------+\n",
      "| 1/1/2016 21:11|1/1/2016 21:17|     Almire|         9298608912|           21| 318886|    Fort Pierce|    Fort Pierce|          5.1|    49.98|        Bike| Meal/Entertain|       Johanna|            9181026109|      YES|             3.6|         YES|          Gpay|              0%|   49.98|  Cancelled|\n",
      "| 1/2/2016 20:25|1/2/2016 20:38|    Frazier|         8621617385|           27| 318886|    Fort Pierce|    Fort Pierce|          4.8|    47.04|        Bike|Errand/Supplies|       Charlot|            9855403124|      YES|             4.5|         YES|        Phonpe|              0%|   47.04|    Arrived|\n",
      "| 1/5/2016 17:31|1/5/2016 17:45|     Editha|         9954004976|           20| 318886|    Fort Pierce|    Fort Pierce|          4.7|    46.06|        Bike|        Meeting|         Cissy|            9328907059|      YES|             4.8|         YES|         Paytm|              0%|   46.06|   Assigned|\n",
      "| 1/6/2016 14:42|1/6/2016 15:49|      Deeyn|         9885727873|           34| 318886|    Fort Pierce|West Palm Beach|         63.7|   624.26|        Bike| Customer Visit|        Luelle|            9774674359|       NO|             4.9|         YES|   Uber wallet|             10%| 561.834|   Assigned|\n",
      "| 1/6/2016 17:15|1/6/2016 17:19|     Correy|         9661756645|           28| 475241|West Palm Beach|West Palm Beach|          4.3|    42.14|        Bike| Meal/Entertain|         Myrle|            9425892986|       NO|             5.0|          NO|          cash|              0%|   42.14|   Assigned|\n",
      "+---------------+--------------+-----------+-------------------+-------------+-------+---------------+---------------+-------------+---------+------------+---------------+--------------+----------------------+---------+----------------+------------+--------------+----------------+--------+-----------+\n",
      "only showing top 5 rows\n",
      "\n"
     ]
    }
   ],
   "source": [
    "customer_df.show(5)"
   ]
  },
  {
   "cell_type": "markdown",
   "id": "51fd5e3c-a1b1-4c53-a84f-e00307cc4bc9",
   "metadata": {},
   "source": [
    "## 1. No. Of Customers taking trip from the source location \n",
    "#### Required Columns : Pickup Location , Count of the number of trips"
   ]
  },
  {
   "cell_type": "code",
   "execution_count": 9,
   "id": "a841ea35-f245-4946-b2af-a14c46005bfa",
   "metadata": {},
   "outputs": [
    {
     "name": "stdout",
     "output_type": "stream",
     "text": [
      "+-----------------+---------------+\n",
      "|Pickup Location  |Number_of_Trips|\n",
      "+-----------------+---------------+\n",
      "|Fort Pierce      |108            |\n",
      "|Midtown          |78             |\n",
      "|West Palm Beach  |54             |\n",
      "|Cary             |52             |\n",
      "|Lower Manhattan  |26             |\n",
      "|Midtown East     |26             |\n",
      "|Flatiron District|26             |\n",
      "|East Harlem      |26             |\n",
      "|Hudson Square    |26             |\n",
      "|Jamaica          |26             |\n",
      "|New York         |26             |\n",
      "|Elmhurst         |26             |\n",
      "+-----------------+---------------+\n",
      "\n"
     ]
    }
   ],
   "source": [
    "# Count number of customers taking trip from the same pickup location\n",
    "customer_df.groupBy() \\\n",
    "    .agg() \\\n",
    "    .orderBy() \\\n",
    "    .show(truncate=False)\n"
   ]
  },
  {
   "cell_type": "markdown",
   "id": "58387164-9690-45d7-89a2-92c12a1b4490",
   "metadata": {},
   "source": [
    "## 2. Top 10 longest location distance travelled by customers\n",
    "#### Required Columns : Passenger Name, Pickup Location, Drop Location, Trip Distance"
   ]
  },
  {
   "cell_type": "code",
   "execution_count": 10,
   "id": "32a2160b-03de-473f-9ddf-d73c7b7dc8cb",
   "metadata": {},
   "outputs": [
    {
     "name": "stdout",
     "output_type": "stream",
     "text": [
      "+--------------+---------------+-------------+-------------+\n",
      "|Passenger Name|Pickup Location|Drop Location|Trip Distance|\n",
      "+--------------+---------------+-------------+-------------+\n",
      "|Price         |East Harlem    |Whitebridge  |80           |\n",
      "|Darlleen      |Fort Pierce    |Cary         |80           |\n",
      "|Virginie      |Elmhurst       |Cary         |80           |\n",
      "|Charlena      |Midtown East   |Durham       |80           |\n",
      "|Haskel        |Cary           |Whitebridge  |80           |\n",
      "|Jacky         |West Palm Beach|Houston      |80           |\n",
      "|Collette      |Fort Pierce    |Tanglewood   |80           |\n",
      "|Moss          |Lower Manhattan|Morrisville  |80           |\n",
      "|Elsy          |New York       |Cary         |79           |\n",
      "|Daron         |Fort Pierce    |Cary         |79           |\n",
      "+--------------+---------------+-------------+-------------+\n",
      "only showing top 10 rows\n",
      "\n"
     ]
    }
   ],
   "source": [
    "longest_trips = customer_df\\\n",
    "                .select()\\\n",
    "                .orderBy()\n",
    "\n",
    "longest_trips.show(10, truncate=False)"
   ]
  },
  {
   "cell_type": "markdown",
   "id": "87afd874-03c2-42b7-8d02-b8dcb74c6068",
   "metadata": {},
   "source": [
    "## 3. Trips where the passenger rating was less than 3.1 and the trip fare was over $40.\n",
    "#### Required Columns : Passenger Name,Trip Fare,Passenger Rating"
   ]
  },
  {
   "cell_type": "markdown",
   "id": "33c5a615-f697-4ce0-8991-f6843c3a12cc",
   "metadata": {},
   "source": [
    "customer_df\\\n",
    "    .filter()\\\n",
    "    .select()\\\n",
    "    .show()"
   ]
  },
  {
   "cell_type": "markdown",
   "id": "04c6989c-7c91-4d7d-bca7-a92962cbaf3b",
   "metadata": {},
   "source": [
    "## 4. Top 3 most common pickup and drop location pairs."
   ]
  },
  {
   "cell_type": "code",
   "execution_count": 12,
   "id": "5b523686-05ba-4b0b-93a5-04a272961293",
   "metadata": {},
   "outputs": [
    {
     "name": "stdout",
     "output_type": "stream",
     "text": [
      "+---------------+-------------+--------+\n",
      "|Pickup Location|Drop Location|count(1)|\n",
      "+---------------+-------------+--------+\n",
      "|        Midtown|         Cary|      18|\n",
      "|    Fort Pierce|         Cary|      16|\n",
      "|           Cary|         Cary|      14|\n",
      "+---------------+-------------+--------+\n",
      "only showing top 3 rows\n",
      "\n"
     ]
    }
   ],
   "source": [
    "customer_df.groupBy()\\\n",
    "            .agg()\\\n",
    "            .orderBy()\\\n",
    "            .show()\n"
   ]
  },
  {
   "cell_type": "markdown",
   "id": "7d93228c-e853-4aa6-b841-8da45a4c53d4",
   "metadata": {},
   "source": [
    "## 5. Check for undercharging ( Fare less than 10 and distance more than five miles)"
   ]
  },
  {
   "cell_type": "code",
   "execution_count": 43,
   "id": "6ad3e341-58b7-4326-8d86-5ca02c5030c6",
   "metadata": {},
   "outputs": [
    {
     "name": "stdout",
     "output_type": "stream",
     "text": [
      "+---------------+-------------+---------+-------------+\n",
      "|Pickup Location|Drop Location|Trip Fare|Trip Distance|\n",
      "+---------------+-------------+---------+-------------+\n",
      "|           Cary|         Cary|     7.84|           68|\n",
      "|West Palm Beach|         Cary|      7.5|           53|\n",
      "|    Fort Pierce|      Tribeca|      7.5|           66|\n",
      "+---------------+-------------+---------+-------------+\n",
      "\n"
     ]
    }
   ],
   "source": [
    "customer_df\\\n",
    "    .filter()\\\n",
    "    .select()\\\n",
    "    .show()\n"
   ]
  },
  {
   "cell_type": "code",
   "execution_count": null,
   "id": "6aef342b-5894-419c-8556-e6697fd6aece",
   "metadata": {},
   "outputs": [],
   "source": []
  }
 ],
 "metadata": {
  "kernelspec": {
   "display_name": "PySpark",
   "language": "python",
   "name": "pyspark"
  },
  "language_info": {
   "codemirror_mode": {
    "name": "ipython",
    "version": 3
   },
   "file_extension": ".py",
   "mimetype": "text/x-python",
   "name": "python",
   "nbconvert_exporter": "python",
   "pygments_lexer": "ipython3",
   "version": "3.11.0"
  }
 },
 "nbformat": 4,
 "nbformat_minor": 5
}
