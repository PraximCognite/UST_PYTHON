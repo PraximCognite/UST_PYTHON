{
 "cells": [
  {
   "cell_type": "code",
   "execution_count": 1,
   "id": "e5942a73-82a5-4d0d-8f1f-18914c5570df",
   "metadata": {},
   "outputs": [
    {
     "data": {
      "text/html": [
       "\n",
       "            <div>\n",
       "                <p><b>SparkSession - in-memory</b></p>\n",
       "                \n",
       "        <div>\n",
       "            <p><b>SparkContext</b></p>\n",
       "\n",
       "            <p><a href=\"http://172.19.3.174:4040\">Spark UI</a></p>\n",
       "\n",
       "            <dl>\n",
       "              <dt>Version</dt>\n",
       "                <dd><code>v3.5.5</code></dd>\n",
       "              <dt>Master</dt>\n",
       "                <dd><code>local[*]</code></dd>\n",
       "              <dt>AppName</dt>\n",
       "                <dd><code>MySparkApp</code></dd>\n",
       "            </dl>\n",
       "        </div>\n",
       "        \n",
       "            </div>\n",
       "        "
      ],
      "text/plain": [
       "<pyspark.sql.session.SparkSession at 0x2638cf13750>"
      ]
     },
     "execution_count": 1,
     "metadata": {},
     "output_type": "execute_result"
    }
   ],
   "source": [
    "from pyspark.sql import SparkSession\n",
    "spark = SparkSession.builder.appName(\"MySparkApp\").master(\"local[*]\").getOrCreate()\n",
    "from pyspark.sql.functions import col,count,avg, month, year, to_date, current_date, when\n",
    "spark"
   ]
  },
  {
   "cell_type": "code",
   "execution_count": 2,
   "id": "a81ad5e0-6753-4f88-92dd-068043e29f5e",
   "metadata": {},
   "outputs": [],
   "source": [
    "admin_df = spark.read.csv(\"Uber/Uber/Admin_data.csv\", header = True, inferSchema = True)\n",
    "customer_df = spark.read.csv(\"Uber/Uber/Customer_table.csv\", header = True, inferSchema = True)\n",
    "rider_df = spark.read.csv(\"Uber/Uber/Riders_data.csv\", inferSchema = True)"
   ]
  },
  {
   "cell_type": "code",
   "execution_count": 3,
   "id": "b5250a3f-b15f-4e70-af21-dcecb3883ec2",
   "metadata": {},
   "outputs": [
    {
     "name": "stdout",
     "output_type": "stream",
     "text": [
      "+--------------+--------------+-------+----------+---+---------+---------------+-----------+---------------+-----+-----------+-------------+---------------+-----+------+--------+--------+-----+-------------+---------+---------+---------+----------+----------+-----------+--------------+---------------+---------+----------+------------+--------+----------+---------+\n",
      "|    Start_time|      End_time|   Name|    Mobile|Age|Pin-Codes|         Source|Vaccine_cus|    Destination|Miles|Est_Costing|Ride_category|        Purpose| temp|clouds|pressure|humidity| wind|accquire_vehi|free_vehi|Lattitute|Longitude|locationID|rating_cus|Riders_Name|Riders_contact|Trusted_Contact|Rating_RI|Vaccine_Ri|Payment_mode|Discount|Final_cost|   Status|\n",
      "+--------------+--------------+-------+----------+---+---------+---------------+-----------+---------------+-----+-----------+-------------+---------------+-----+------+--------+--------+-----+-------------+---------+---------+---------+----------+----------+-----------+--------------+---------------+---------+----------+------------+--------+----------+---------+\n",
      "|1/1/2016 21:11|1/1/2016 21:17| Almire|9298608912| 21|   318886|    Fort Pierce|        YES|    Fort Pierce|  5.1|      49.98|         Bike| Meal/Entertain|42.42|   1.0| 1012.14|    0.77|11.25|           26|       17|   40.769| -73.9549|       141|         3|    Johanna|    9181026109|            YES|      3.6|       YES|        Gpay|      0%|     49.98|Cancelled|\n",
      "|1/2/2016 20:25|1/2/2016 20:38|Frazier|8621617385| 27|   318886|    Fort Pierce|        YES|    Fort Pierce|  4.8|      47.04|         Bike|Errand/Supplies|42.43|   1.0| 1012.15|    0.76|11.32|           45|       24|  40.7267| -74.0345|        65|         4|    Charlot|    9855403124|            YES|      4.5|       YES|      Phonpe|      0%|     47.04|  Arrived|\n",
      "|1/5/2016 17:31|1/5/2016 17:45| Editha|9954004976| 20|   318886|    Fort Pierce|        YES|    Fort Pierce|  4.7|      46.06|         Bike|        Meeting| 42.5|   1.0| 1012.15|    0.76|11.07|          731|       36|  40.7316| -73.9873|       100|         5|      Cissy|    9328907059|            YES|      4.8|       YES|       Paytm|      0%|     46.06| Assigned|\n",
      "|1/6/2016 14:42|1/6/2016 15:49|  Deeyn|9885727873| 34|   318886|    Fort Pierce|        YES|West Palm Beach| 63.7|     624.26|         Bike| Customer Visit|42.11|   1.0| 1012.13|    0.77|11.09|           10|        9|  40.7588| -73.9776|        80|         2|     Luelle|    9774674359|             NO|      4.9|       YES| Uber wallet|     10%|   561.834| Assigned|\n",
      "|1/6/2016 17:15|1/6/2016 17:19| Correy|9661756645| 28|   475241|West Palm Beach|         NO|West Palm Beach|  4.3|      42.14|         Bike| Meal/Entertain|43.13|   1.0| 1012.14|    0.75|11.49|          814|       62|  40.7594| -73.9722|        90|         3|      Myrle|    9425892986|             NO|      5.0|        NO|        cash|      0%|     42.14| Assigned|\n",
      "+--------------+--------------+-------+----------+---+---------+---------------+-----------+---------------+-----+-----------+-------------+---------------+-----+------+--------+--------+-----+-------------+---------+---------+---------+----------+----------+-----------+--------------+---------------+---------+----------+------------+--------+----------+---------+\n",
      "only showing top 5 rows\n",
      "\n"
     ]
    }
   ],
   "source": [
    "admin_df.show(5)"
   ]
  },
  {
   "cell_type": "code",
   "execution_count": 4,
   "id": "a8905721-18a9-432d-8ceb-87540cf576e3",
   "metadata": {},
   "outputs": [
    {
     "name": "stdout",
     "output_type": "stream",
     "text": [
      "+---------------+--------------+-----------+-------------------+-------------+-------+---------------+---------------+-------------+---------+------------+---------------+--------------+----------------------+---------+----------------+------------+--------------+----------------+--------+-----------+\n",
      "|Pickup DateTime| Drop DateTime|Driver Name|Driver Phone Number|Trip Distance|Trip ID|Pickup Location|  Drop Location|Trip Duration|Trip Fare|Vehicle Type|   Trip Purpose|Passenger Name|Passenger Phone Number|Scheduled|Passenger Rating|Driver Rated|Payment Method|Payment Discount|Net Fare|Trip Status|\n",
      "+---------------+--------------+-----------+-------------------+-------------+-------+---------------+---------------+-------------+---------+------------+---------------+--------------+----------------------+---------+----------------+------------+--------------+----------------+--------+-----------+\n",
      "| 1/1/2016 21:11|1/1/2016 21:17|     Almire|         9298608912|           21| 318886|    Fort Pierce|    Fort Pierce|          5.1|    49.98|        Bike| Meal/Entertain|       Johanna|            9181026109|      YES|             3.6|         YES|          Gpay|              0%|   49.98|  Cancelled|\n",
      "| 1/2/2016 20:25|1/2/2016 20:38|    Frazier|         8621617385|           27| 318886|    Fort Pierce|    Fort Pierce|          4.8|    47.04|        Bike|Errand/Supplies|       Charlot|            9855403124|      YES|             4.5|         YES|        Phonpe|              0%|   47.04|    Arrived|\n",
      "| 1/5/2016 17:31|1/5/2016 17:45|     Editha|         9954004976|           20| 318886|    Fort Pierce|    Fort Pierce|          4.7|    46.06|        Bike|        Meeting|         Cissy|            9328907059|      YES|             4.8|         YES|         Paytm|              0%|   46.06|   Assigned|\n",
      "| 1/6/2016 14:42|1/6/2016 15:49|      Deeyn|         9885727873|           34| 318886|    Fort Pierce|West Palm Beach|         63.7|   624.26|        Bike| Customer Visit|        Luelle|            9774674359|       NO|             4.9|         YES|   Uber wallet|             10%| 561.834|   Assigned|\n",
      "| 1/6/2016 17:15|1/6/2016 17:19|     Correy|         9661756645|           28| 475241|West Palm Beach|West Palm Beach|          4.3|    42.14|        Bike| Meal/Entertain|         Myrle|            9425892986|       NO|             5.0|          NO|          cash|              0%|   42.14|   Assigned|\n",
      "+---------------+--------------+-----------+-------------------+-------------+-------+---------------+---------------+-------------+---------+------------+---------------+--------------+----------------------+---------+----------------+------------+--------------+----------------+--------+-----------+\n",
      "only showing top 5 rows\n",
      "\n"
     ]
    }
   ],
   "source": [
    "customer_df.show(5)"
   ]
  },
  {
   "cell_type": "code",
   "execution_count": 5,
   "id": "80b5bab0-e1ff-4368-912f-fb054ccad003",
   "metadata": {},
   "outputs": [
    {
     "name": "stdout",
     "output_type": "stream",
     "text": [
      "+--------------+--------------+-------+----------+---+------+---------------+---------------+----+------+----+-------+----------+----+----+----+----+-----------+----+-------+---------+\n",
      "|           _c0|           _c1|    _c2|       _c3|_c4|   _c5|            _c6|            _c7| _c8|   _c9|_c10|   _c11|      _c12|_c13|_c14|_c15|_c16|       _c17|_c18|   _c19|     _c20|\n",
      "+--------------+--------------+-------+----------+---+------+---------------+---------------+----+------+----+-------+----------+----+----+----+----+-----------+----+-------+---------+\n",
      "|1/1/2016 21:11|1/1/2016 21:17| Almire|9298608912| 21|318886|    Fort Pierce|    Fort Pierce| 5.1| 49.98|Bike|Johanna|9181026109|   3| 141| YES| YES|       Gpay|  0%|  49.98|Cancelled|\n",
      "|1/2/2016 20:25|1/2/2016 20:38|Frazier|8621617385| 27|318886|    Fort Pierce|    Fort Pierce| 4.8| 47.04|Bike|Charlot|9855403124|   4|  65| YES| YES|     Phonpe|  0%|  47.04|  Arrived|\n",
      "|1/5/2016 17:31|1/5/2016 17:45| Editha|9954004976| 20|318886|    Fort Pierce|    Fort Pierce| 4.7| 46.06|Bike|  Cissy|9328907059|   5| 100| YES| YES|      Paytm|  0%|  46.06| Assigned|\n",
      "|1/6/2016 14:42|1/6/2016 15:49|  Deeyn|9885727873| 34|318886|    Fort Pierce|West Palm Beach|63.7|624.26|Bike| Luelle|9774674359|   2|  80|  NO| YES|Uber wallet| 10%|561.834| Assigned|\n",
      "|1/6/2016 17:15|1/6/2016 17:19| Correy|9661756645| 28|475241|West Palm Beach|West Palm Beach| 4.3| 42.14|Bike|  Myrle|9425892986|   3|  90|  NO|  NO|       cash|  0%|  42.14| Assigned|\n",
      "+--------------+--------------+-------+----------+---+------+---------------+---------------+----+------+----+-------+----------+----+----+----+----+-----------+----+-------+---------+\n",
      "only showing top 5 rows\n",
      "\n"
     ]
    }
   ],
   "source": [
    "rider_df.show(5)"
   ]
  },
  {
   "cell_type": "markdown",
   "id": "214ffc30-016d-4dde-81a8-ed841195c65b",
   "metadata": {},
   "source": [
    "## 1. No. Of Customers Take trip from the same location "
   ]
  },
  {
   "cell_type": "code",
   "execution_count": 6,
   "id": "b391614d-b4dc-45c2-9cc7-330c2838d4ac",
   "metadata": {},
   "outputs": [
    {
     "name": "stdout",
     "output_type": "stream",
     "text": [
      "+-----------------+---------------+\n",
      "|Pickup Location  |Number_of_Trips|\n",
      "+-----------------+---------------+\n",
      "|Fort Pierce      |108            |\n",
      "|Midtown          |78             |\n",
      "|West Palm Beach  |54             |\n",
      "|Cary             |52             |\n",
      "|Lower Manhattan  |26             |\n",
      "|Midtown East     |26             |\n",
      "|Flatiron District|26             |\n",
      "|East Harlem      |26             |\n",
      "|Hudson Square    |26             |\n",
      "|Jamaica          |26             |\n",
      "|New York         |26             |\n",
      "|Elmhurst         |26             |\n",
      "+-----------------+---------------+\n",
      "\n"
     ]
    }
   ],
   "source": [
    "# Count number of customers taking trip from the same pickup location\n",
    "customer_df.groupBy(\"Pickup Location\") \\\n",
    "    .agg(count(\"*\").alias(\"Number_of_Trips\")) \\\n",
    "    .orderBy(\"Number_of_Trips\", ascending=False) \\\n",
    "    .show(truncate=False)\n"
   ]
  },
  {
   "cell_type": "markdown",
   "id": "1347f757-512e-49fd-a6f8-0dab095a5f0a",
   "metadata": {},
   "source": [
    "## 2.what is priority for each ride category from each location"
   ]
  },
  {
   "cell_type": "code",
   "execution_count": 7,
   "id": "326c1245-bba5-40b7-a490-565a26407477",
   "metadata": {},
   "outputs": [
    {
     "name": "stdout",
     "output_type": "stream",
     "text": [
      "+-----------------+-------------+----------+\n",
      "|Source           |Ride_category|Trip_Count|\n",
      "+-----------------+-------------+----------+\n",
      "|Cary             |Prime        |12        |\n",
      "|Cary             |Auto         |12        |\n",
      "|Cary             |Uber-Mini    |12        |\n",
      "|Cary             |Uber-Micro   |8         |\n",
      "|Cary             |Bike         |8         |\n",
      "|East Harlem      |Bike         |6         |\n",
      "|East Harlem      |Uber-Micro   |6         |\n",
      "|East Harlem      |Uber-Mini    |6         |\n",
      "|East Harlem      |Auto         |4         |\n",
      "|East Harlem      |Prime        |4         |\n",
      "|Elmhurst         |Auto         |6         |\n",
      "|Elmhurst         |Uber-Micro   |6         |\n",
      "|Elmhurst         |Prime        |5         |\n",
      "|Elmhurst         |Bike         |5         |\n",
      "|Elmhurst         |Uber-Mini    |4         |\n",
      "|Flatiron District|Uber-Mini    |6         |\n",
      "|Flatiron District|Uber-Micro   |6         |\n",
      "|Flatiron District|Bike         |6         |\n",
      "|Flatiron District|Auto         |4         |\n",
      "|Flatiron District|Prime        |4         |\n",
      "+-----------------+-------------+----------+\n",
      "only showing top 20 rows\n",
      "\n"
     ]
    }
   ],
   "source": [
    "# Count of each ride category per pickup location\n",
    "admin_df.groupBy(\"Source\", \"Ride_category\") \\\n",
    "    .agg(count(\"*\").alias(\"Trip_Count\")) \\\n",
    "    .orderBy(\"Source\", \"Trip_Count\", ascending=[True, False]) \\\n",
    "    .show(truncate=False)"
   ]
  },
  {
   "cell_type": "markdown",
   "id": "e4ddf47f-6e2c-47b6-b777-bf22ea5c5d4e",
   "metadata": {},
   "source": [
    "## 3.what are the longest locations of customer travelled."
   ]
  },
  {
   "cell_type": "code",
   "execution_count": 8,
   "id": "e1d593fe-81ab-4431-8e92-cb66dc15a4c5",
   "metadata": {},
   "outputs": [
    {
     "name": "stdout",
     "output_type": "stream",
     "text": [
      "+--------------+---------------+-------------+-------------+\n",
      "|Passenger Name|Pickup Location|Drop Location|Trip Distance|\n",
      "+--------------+---------------+-------------+-------------+\n",
      "|Price         |East Harlem    |Whitebridge  |80           |\n",
      "|Darlleen      |Fort Pierce    |Cary         |80           |\n",
      "|Virginie      |Elmhurst       |Cary         |80           |\n",
      "|Charlena      |Midtown East   |Durham       |80           |\n",
      "|Haskel        |Cary           |Whitebridge  |80           |\n",
      "|Jacky         |West Palm Beach|Houston      |80           |\n",
      "|Collette      |Fort Pierce    |Tanglewood   |80           |\n",
      "|Moss          |Lower Manhattan|Morrisville  |80           |\n",
      "|Elsy          |New York       |Cary         |79           |\n",
      "|Daron         |Fort Pierce    |Cary         |79           |\n",
      "+--------------+---------------+-------------+-------------+\n",
      "only showing top 10 rows\n",
      "\n"
     ]
    }
   ],
   "source": [
    "# Sort by Trip Distance descending and show top 10\n",
    "longest_trips = customer_df.select(\n",
    "    \"Passenger Name\", \"Pickup Location\", \"Drop Location\", \"Trip Distance\"\n",
    ").orderBy(col(\"Trip Distance\").desc())\n",
    "\n",
    "longest_trips.show(10, truncate=False)"
   ]
  },
  {
   "cell_type": "markdown",
   "id": "290ab08c-6d2b-4628-b0dd-98aab1e1c759",
   "metadata": {},
   "source": [
    "## 4. Drivers who completed ride with non-vaccinated customers."
   ]
  },
  {
   "cell_type": "code",
   "execution_count": 9,
   "id": "eee1c3df-9952-4623-b127-ae29ef3c9c85",
   "metadata": {},
   "outputs": [
    {
     "name": "stdout",
     "output_type": "stream",
     "text": [
      "+---------+\n",
      "|Name     |\n",
      "+---------+\n",
      "|Baron    |\n",
      "|Aubert   |\n",
      "|Randee   |\n",
      "|Violetta |\n",
      "|Ula      |\n",
      "|Charissa |\n",
      "|Cassius  |\n",
      "|Danielle |\n",
      "|Bernadine|\n",
      "|Mathian  |\n",
      "|Gabbey   |\n",
      "|Ray      |\n",
      "|Laurice  |\n",
      "|Fabio    |\n",
      "|Sherwin  |\n",
      "|Reggie   |\n",
      "|Bjorn    |\n",
      "|Terrye   |\n",
      "|Anallise |\n",
      "|Clim     |\n",
      "+---------+\n",
      "only showing top 20 rows\n",
      "\n"
     ]
    }
   ],
   "source": [
    "# Filter non-vaccinated customer rides that were completed\n",
    "completed_rides_df = admin_df.filter(\n",
    "    (col(\"Vaccine_cus\") == \"NO\") &\n",
    "    (col(\"Status\").isin(\"Arrived\", \"Assigned\"))\n",
    ")\n",
    "\n",
    "# Select distinct driver names and phone numbers\n",
    "completed_rides_df.select(\"Name\").distinct().show(truncate=False)\n"
   ]
  },
  {
   "cell_type": "markdown",
   "id": "dd8241ed-9298-412b-9c75-eb8eed232d49",
   "metadata": {},
   "source": [
    "## 5.How many vaccinated customers have travelled."
   ]
  },
  {
   "cell_type": "code",
   "execution_count": 10,
   "id": "9387c264-6880-40b4-8aed-0c1ba730e5c1",
   "metadata": {},
   "outputs": [
    {
     "name": "stdout",
     "output_type": "stream",
     "text": [
      "+--------------------------+\n",
      "|Vaccinated_Customers_Trips|\n",
      "+--------------------------+\n",
      "|                       400|\n",
      "+--------------------------+\n",
      "\n"
     ]
    }
   ],
   "source": [
    "# Count vaccinated customer rides\n",
    "admin_df.filter(col(\"Vaccine_cus\") == \"YES\") \\\n",
    "    .agg(count(\"*\").alias(\"Vaccinated_Customers_Trips\")) \\\n",
    "    .show()"
   ]
  },
  {
   "cell_type": "markdown",
   "id": "f0139a3f-c9a2-44de-a050-b1d12dc7ee84",
   "metadata": {},
   "source": [
    "## 6.Customers who completed ride with non-vaccinated Drivers."
   ]
  },
  {
   "cell_type": "code",
   "execution_count": 11,
   "id": "49e3e616-3a97-4d04-be64-b5b02df4490a",
   "metadata": {},
   "outputs": [
    {
     "name": "stdout",
     "output_type": "stream",
     "text": [
      "+--------+-----------+\n",
      "|Name    |Riders_Name|\n",
      "+--------+-----------+\n",
      "|Horton  |Dora       |\n",
      "|Madison |Kip        |\n",
      "|Charissa|Kimberly   |\n",
      "|Viviana |Kain       |\n",
      "|Ernaline|Yasmeen    |\n",
      "|Joelle  |Dora       |\n",
      "|Kristo  |Ellette    |\n",
      "|Arliene |Yasmeen    |\n",
      "|Gracia  |Carolus    |\n",
      "|Anton   |Marta      |\n",
      "|Roderigo|Pattin     |\n",
      "|Renard  |Haskel     |\n",
      "|Riley   |Abbi       |\n",
      "|Kristel |Carolus    |\n",
      "|Mathian |Mikkel     |\n",
      "|Anallise|Pattin     |\n",
      "|Geordie |Pattin     |\n",
      "|Gwennie |Romonda    |\n",
      "|Lindy   |Haskel     |\n",
      "|Marv    |Abbi       |\n",
      "+--------+-----------+\n",
      "only showing top 20 rows\n",
      "\n"
     ]
    }
   ],
   "source": [
    "# Filter for non-vaccinated drivers and completed rides\n",
    "non_vaccinated_driver_rides = admin_df.filter(\n",
    "    (col(\"Vaccine_Ri\") == \"NO\") &\n",
    "    (col(\"Status\").isin(\"Arrived\", \"Assigned\"))\n",
    ")\n",
    "\n",
    "# Show unique customers who took those rides\n",
    "non_vaccinated_driver_rides.select(\"Name\", \"Riders_Name\") \\\n",
    "    .distinct() \\\n",
    "    .show(truncate=False)\n"
   ]
  },
  {
   "cell_type": "markdown",
   "id": "6f4322d2-0dd7-4e53-bc4d-0b10376514d5",
   "metadata": {},
   "source": [
    "# WRONG\n",
    "## 7.who is the customer completed highest no of rides"
   ]
  },
  {
   "cell_type": "code",
   "execution_count": 12,
   "id": "674ef177-73f3-4b83-a6f6-c69bb0b88756",
   "metadata": {},
   "outputs": [
    {
     "name": "stdout",
     "output_type": "stream",
     "text": [
      "+--------------+----------------------+---------------+\n",
      "|Passenger Name|Passenger Phone Number|Completed_Rides|\n",
      "+--------------+----------------------+---------------+\n",
      "|Siegfried     |9419083292            |5              |\n",
      "+--------------+----------------------+---------------+\n",
      "\n"
     ]
    }
   ],
   "source": [
    "# Filter completed rides\n",
    "completed_rides = customer_df.filter(col(\"Trip Status\").isin(\"Arrived\", \"Assigned\"))\n",
    "\n",
    "# Group by Passenger Name and count rides\n",
    "top_customer = completed_rides.groupBy(\"Passenger Name\", \"Passenger Phone Number\") \\\n",
    "    .agg(count(\"*\").alias(\"Completed_Rides\")) \\\n",
    "    .orderBy(col(\"Completed_Rides\").desc()) \\\n",
    "    .limit(1)\n",
    "\n",
    "top_customer.show(truncate=False)"
   ]
  },
  {
   "cell_type": "markdown",
   "id": "656428b3-5245-4d8c-8c7c-5ca179e364a2",
   "metadata": {},
   "source": [
    "## 8.who is the driver completed highest no of rides."
   ]
  },
  {
   "cell_type": "code",
   "execution_count": 17,
   "id": "ccefce84-b554-4858-9077-b7a9f3282071",
   "metadata": {},
   "outputs": [
    {
     "name": "stdout",
     "output_type": "stream",
     "text": [
      "+-----------+--------------+---------------+\n",
      "|Riders_Name|Riders_contact|Completed_Rides|\n",
      "+-----------+--------------+---------------+\n",
      "|Rhonda     |9626523261    |5              |\n",
      "|Marve      |9503219756    |5              |\n",
      "|Aurlie     |9450752773    |5              |\n",
      "|Siegfried  |9419083292    |5              |\n",
      "|Ede        |9659266471    |5              |\n",
      "+-----------+--------------+---------------+\n",
      "\n"
     ]
    }
   ],
   "source": [
    "# Filter for completed rides\n",
    "completed_rides = admin_df.filter(col(\"Status\").isin(\"Arrived\", \"Assigned\"))\n",
    "\n",
    "# Group by driver and count number of completed rides\n",
    "top_driver = completed_rides.groupBy(\"Riders_Name\", \"Riders_contact\") \\\n",
    "    .agg(count(\"*\").alias(\"Completed_Rides\")) \\\n",
    "    .orderBy(col(\"Completed_Rides\").desc()) \\\n",
    "    .limit(5)\n",
    "\n",
    "top_driver.show(truncate=False)"
   ]
  },
  {
   "cell_type": "markdown",
   "id": "d7b76de0-f297-44c5-9e91-3b28b03352fc",
   "metadata": {},
   "source": [
    "## 9.what are first 10 age groups which uses uber services mostly."
   ]
  },
  {
   "cell_type": "code",
   "execution_count": 14,
   "id": "cb9d55e6-8278-4f97-81af-d67d293657d3",
   "metadata": {},
   "outputs": [
    {
     "name": "stdout",
     "output_type": "stream",
     "text": [
      "+---+-----------+\n",
      "|Age|Usage_Count|\n",
      "+---+-----------+\n",
      "| 69|         16|\n",
      "| 15|         15|\n",
      "| 32|         15|\n",
      "| 28|         12|\n",
      "| 78|         11|\n",
      "| 43|         11|\n",
      "| 49|         11|\n",
      "| 21|         11|\n",
      "| 23|         10|\n",
      "| 44|         10|\n",
      "+---+-----------+\n",
      "\n"
     ]
    }
   ],
   "source": [
    "top_age_groups = admin_df.groupBy(\"Age\") \\\n",
    "    .agg(count(\"*\").alias(\"Usage_Count\")) \\\n",
    "    .orderBy(col(\"Usage_Count\").desc()) \\\n",
    "    .limit(10)\n",
    "\n",
    "top_age_groups.show()"
   ]
  },
  {
   "cell_type": "markdown",
   "id": "71772faf-f4df-4cf5-8358-156af54d1395",
   "metadata": {},
   "source": [
    "## 10.what is the count of different destination locations from same start location and also completed ride"
   ]
  },
  {
   "cell_type": "code",
   "execution_count": 15,
   "id": "9e40b25c-d428-49cd-94a9-e9e7a913fa1b",
   "metadata": {},
   "outputs": [
    {
     "name": "stdout",
     "output_type": "stream",
     "text": [
      "+---------------+---------------------+----------+\n",
      "|Pickup Location|Drop Location        |Trip_Count|\n",
      "+---------------+---------------------+----------+\n",
      "|Cary           |Cary                 |12        |\n",
      "|Cary           |Morrisville          |7         |\n",
      "|Cary           |Whitebridge          |3         |\n",
      "|Cary           |Kissimmee            |2         |\n",
      "|Cary           |Lake Reams           |2         |\n",
      "|Cary           |Houston              |2         |\n",
      "|Cary           |Raleigh              |1         |\n",
      "|Cary           |South Congress       |1         |\n",
      "|Cary           |Cedar Hill           |1         |\n",
      "|Cary           |Kenner               |1         |\n",
      "|Cary           |Tanglewood           |1         |\n",
      "|Cary           |Lakeview             |1         |\n",
      "|Cary           |R?walpindi           |1         |\n",
      "|Cary           |Hazelwood            |1         |\n",
      "|Cary           |Chessington          |1         |\n",
      "|Cary           |Westpark Place       |1         |\n",
      "|Cary           |Lower Garden District|1         |\n",
      "|Cary           |Meredith Townes      |1         |\n",
      "|Cary           |Sharpstown           |1         |\n",
      "|Cary           |Jamestown Court      |1         |\n",
      "+---------------+---------------------+----------+\n",
      "only showing top 20 rows\n",
      "\n"
     ]
    }
   ],
   "source": [
    "completed_rides = customer_df.filter(col(\"Trip Status\").isin(\"Arrived\", \"Assigned\"))\n",
    "\n",
    "destination_counts = completed_rides.groupBy(\"Pickup Location\", \"Drop Location\") \\\n",
    "    .agg(count(\"*\").alias(\"Trip_Count\")) \\\n",
    "    .orderBy(\"Pickup Location\", \"Trip_Count\", ascending=[True, False])\n",
    "\n",
    "destination_counts.show(20, truncate=False)\n"
   ]
  },
  {
   "cell_type": "markdown",
   "id": "214f613e-8d68-41cd-8153-243b06d6d14e",
   "metadata": {},
   "source": [
    "## 11.what is the most expensive Drive"
   ]
  },
  {
   "cell_type": "code",
   "execution_count": 23,
   "id": "3f86bc1d-fa69-4305-9a1d-8ef3cf77c3ee",
   "metadata": {},
   "outputs": [
    {
     "name": "stdout",
     "output_type": "stream",
     "text": [
      "+--------------+-----------+---------------+-------------+---------+\n",
      "|Passenger Name|Driver Name|Pickup Location|Drop Location|Trip Fare|\n",
      "+--------------+-----------+---------------+-------------+---------+\n",
      "|        Aurlie|        Ely|           Cary|         Cary|   5406.0|\n",
      "+--------------+-----------+---------------+-------------+---------+\n",
      "\n"
     ]
    }
   ],
   "source": [
    "most_expensive_trip = customer_df.select(\n",
    "    \"Passenger Name\", \"Driver Name\", \"Pickup Location\", \"Drop Location\", \"Trip Fare\"\n",
    ").orderBy(col(\"Trip Fare\").desc()).limit(1)\n",
    "\n",
    "most_expensive_trip.show()"
   ]
  },
  {
   "cell_type": "code",
   "execution_count": null,
   "id": "5daee69f-c932-45e1-9a2a-45463f276b91",
   "metadata": {},
   "outputs": [],
   "source": []
  },
  {
   "cell_type": "code",
   "execution_count": null,
   "id": "f23e0665-0d75-4c51-b03d-13fa27f54e9e",
   "metadata": {},
   "outputs": [],
   "source": []
  }
 ],
 "metadata": {
  "kernelspec": {
   "display_name": "PySpark",
   "language": "python",
   "name": "pyspark"
  },
  "language_info": {
   "codemirror_mode": {
    "name": "ipython",
    "version": 3
   },
   "file_extension": ".py",
   "mimetype": "text/x-python",
   "name": "python",
   "nbconvert_exporter": "python",
   "pygments_lexer": "ipython3",
   "version": "3.11.0"
  }
 },
 "nbformat": 4,
 "nbformat_minor": 5
}
