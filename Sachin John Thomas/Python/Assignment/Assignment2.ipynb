{
 "cells": [
  {
   "cell_type": "code",
   "execution_count": 1,
   "id": "5fb1edd2-68ca-401c-872f-42085e65a27d",
   "metadata": {},
   "outputs": [],
   "source": [
    "import os"
   ]
  },
  {
   "cell_type": "code",
   "execution_count": 2,
   "id": "723a9117-a43b-41c8-8243-f1797bfb3d17",
   "metadata": {},
   "outputs": [
    {
     "ename": "FileExistsError",
     "evalue": "[WinError 183] Cannot create a file when that file already exists: 'Assignment'",
     "output_type": "error",
     "traceback": [
      "\u001b[31m---------------------------------------------------------------------------\u001b[39m",
      "\u001b[31mFileExistsError\u001b[39m                           Traceback (most recent call last)",
      "\u001b[36mCell\u001b[39m\u001b[36m \u001b[39m\u001b[32mIn[2]\u001b[39m\u001b[32m, line 2\u001b[39m\n\u001b[32m      1\u001b[39m os.chdir(\u001b[33m\"\u001b[39m\u001b[33m/Users/Administrator/Python\u001b[39m\u001b[33m\"\u001b[39m)\n\u001b[32m----> \u001b[39m\u001b[32m2\u001b[39m \u001b[43mos\u001b[49m\u001b[43m.\u001b[49m\u001b[43mmkdir\u001b[49m\u001b[43m(\u001b[49m\u001b[33;43m\"\u001b[39;49m\u001b[33;43mAssignment\u001b[39;49m\u001b[33;43m\"\u001b[39;49m\u001b[43m)\u001b[49m\n",
      "\u001b[31mFileExistsError\u001b[39m: [WinError 183] Cannot create a file when that file already exists: 'Assignment'"
     ]
    }
   ],
   "source": [
    "os.chdir(\"/Users/Administrator/Python\")\n",
    "os.mkdir(\"Assignment\")"
   ]
  },
  {
   "cell_type": "code",
   "execution_count": 3,
   "id": "ec6446f2-a04a-4094-8bfd-a7d09a6fbd3a",
   "metadata": {},
   "outputs": [],
   "source": [
    "os.chdir(\"/Users/Administrator/Python/Assignment\")\n",
    "os.getenv(\"Users/Administrator/Python/Assignment\")\n",
    "lst = open(\"Assign.txt\",\"w\")\n",
    "lst.close()"
   ]
  },
  {
   "cell_type": "code",
   "execution_count": 2,
   "id": "421c2163-cfc2-46d9-8341-554c51bb7e41",
   "metadata": {},
   "outputs": [],
   "source": [
    "import shutil\n",
    "shutil.rmtree(\"/Users/Administrator/Python/Assignment\")"
   ]
  },
  {
   "cell_type": "code",
   "execution_count": null,
   "id": "a5bdeb37-f69f-4e02-b9cb-fadd4e37e1e9",
   "metadata": {},
   "outputs": [],
   "source": []
  }
 ],
 "metadata": {
  "kernelspec": {
   "display_name": "Python 3 (ipykernel)",
   "language": "python",
   "name": "python3"
  },
  "language_info": {
   "codemirror_mode": {
    "name": "ipython",
    "version": 3
   },
   "file_extension": ".py",
   "mimetype": "text/x-python",
   "name": "python",
   "nbconvert_exporter": "python",
   "pygments_lexer": "ipython3",
   "version": "3.11.0"
  }
 },
 "nbformat": 4,
 "nbformat_minor": 5
}
