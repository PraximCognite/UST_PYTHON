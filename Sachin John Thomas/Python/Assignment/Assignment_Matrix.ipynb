{
 "cells": [
  {
   "cell_type": "code",
   "execution_count": 1,
   "id": "923cd825-befc-45d4-980d-55fbd81cdb8b",
   "metadata": {},
   "outputs": [],
   "source": []
  },
  {
   "cell_type": "code",
   "execution_count": 3,
   "id": "7ca75329-8b01-4d1f-af3a-50c1b1b24507",
   "metadata": {},
   "outputs": [],
   "source": [
    "# Original 3x4 matrix\n",
    "mat = [[1, 2, 3, 4],\n",
    "       [5, 6, 7, 8],\n",
    "       [9, 10, 11, 12]]"
   ]
  },
  {
   "cell_type": "code",
   "execution_count": 6,
   "id": "3c979358-a95b-449e-83f7-72f97ad8e525",
   "metadata": {},
   "outputs": [
    {
     "name": "stdout",
     "output_type": "stream",
     "text": [
      "[[1, 5, 9], [2, 6, 10], [3, 7, 11], [4, 8, 12]]\n"
     ]
    }
   ],
   "source": [
    "mat_t = [[row[i] for row in mat] for i in range(len(mat[0]))]\n",
    "\n",
    "print(mat_t)"
   ]
  },
  {
   "cell_type": "code",
   "execution_count": 7,
   "id": "36206b23-f5a0-4e19-bac8-d198c42ed6ba",
   "metadata": {},
   "outputs": [
    {
     "name": "stdout",
     "output_type": "stream",
     "text": [
      "[1, 2, 3, 4]\n",
      "[5, 6, 7, 8]\n",
      "[9, 10, 11, 12]\n"
     ]
    }
   ],
   "source": [
    "for row in mat :\n",
    "    print(row)"
   ]
  },
  {
   "cell_type": "code",
   "execution_count": 8,
   "id": "20d63b9c-b727-4e06-b44a-f2419361396d",
   "metadata": {},
   "outputs": [
    {
     "data": {
      "text/plain": [
       "[1, 2, 3, 4]"
      ]
     },
     "execution_count": 8,
     "metadata": {},
     "output_type": "execute_result"
    }
   ],
   "source": [
    "mat[0]"
   ]
  },
  {
   "cell_type": "code",
   "execution_count": null,
   "id": "16cb4ea4-53c0-4de7-8104-a2144336141c",
   "metadata": {},
   "outputs": [],
   "source": []
  }
 ],
 "metadata": {
  "kernelspec": {
   "display_name": "Python 3 (ipykernel)",
   "language": "python",
   "name": "python3"
  },
  "language_info": {
   "codemirror_mode": {
    "name": "ipython",
    "version": 3
   },
   "file_extension": ".py",
   "mimetype": "text/x-python",
   "name": "python",
   "nbconvert_exporter": "python",
   "pygments_lexer": "ipython3",
   "version": "3.11.0"
  }
 },
 "nbformat": 4,
 "nbformat_minor": 5
}
