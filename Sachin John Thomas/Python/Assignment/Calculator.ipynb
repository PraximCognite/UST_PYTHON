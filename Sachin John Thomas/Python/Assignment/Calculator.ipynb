{
 "cells": [
  {
   "cell_type": "code",
   "execution_count": 31,
   "id": "d22df22d-a151-4489-a8a8-0b1bc3dab52c",
   "metadata": {},
   "outputs": [],
   "source": [
    "plus = lambda x,y :x+y\n",
    "subtract = lambda x,y: x-y\n",
    "multiply = lambda x,y: x*y\n",
    "div = lambda x,y: x/y"
   ]
  },
  {
   "cell_type": "code",
   "execution_count": 27,
   "id": "884569ee-0910-44bd-b766-00a9380e31a3",
   "metadata": {},
   "outputs": [
    {
     "name": "stdout",
     "output_type": "stream",
     "text": [
      "False\n",
      "True\n"
     ]
    }
   ],
   "source": [
    "lst = \n",
    "num = '13'\n",
    "for n in num:\n",
    "    print(n not in lst) "
   ]
  },
  {
   "cell_type": "code",
   "execution_count": 32,
   "id": "7a7efeff-7a50-4a12-8a43-db5cd683ecc6",
   "metadata": {},
   "outputs": [],
   "source": [
    "def inp():\n",
    "    lst = ['0','1','2','3','4','5','6','7','8','9']\n",
    "    a = input(\"Enter number : \")\n",
    "    for n in a :\n",
    "        if n not in lst:\n",
    "            print(\"Error : Enter an integer\")\n",
    "            return(None)\n",
    "        else:\n",
    "            return(int(a))"
   ]
  },
  {
   "cell_type": "code",
   "execution_count": 36,
   "id": "94c92321-a70f-433b-88c4-c8f2fbb3f610",
   "metadata": {},
   "outputs": [
    {
     "name": "stdout",
     "output_type": "stream",
     "text": [
      "--------------------------------------------------------------\n",
      "CALCULATOR\n",
      "Enter your numbers\n"
     ]
    },
    {
     "name": "stdin",
     "output_type": "stream",
     "text": [
      "Enter number :  10\n",
      "Enter number :  12\n"
     ]
    },
    {
     "name": "stdout",
     "output_type": "stream",
     "text": [
      "1. Addition\n",
      "2. Subtraction\n",
      "3. Multiplication\n",
      "4. Divivsion\n",
      "0. Exit\n"
     ]
    },
    {
     "ename": "KeyboardInterrupt",
     "evalue": "Interrupted by user",
     "output_type": "error",
     "traceback": [
      "\u001b[31m---------------------------------------------------------------------------\u001b[39m",
      "\u001b[31mKeyboardInterrupt\u001b[39m                         Traceback (most recent call last)",
      "\u001b[36mCell\u001b[39m\u001b[36m \u001b[39m\u001b[32mIn[36]\u001b[39m\u001b[32m, line 13\u001b[39m\n\u001b[32m     10\u001b[39m     \u001b[38;5;28;01mbreak\u001b[39;00m\n\u001b[32m     12\u001b[39m \u001b[38;5;28mprint\u001b[39m(\u001b[33m\"\u001b[39m\u001b[33m1. Addition\u001b[39m\u001b[38;5;130;01m\\n\u001b[39;00m\u001b[33m2. Subtraction\u001b[39m\u001b[38;5;130;01m\\n\u001b[39;00m\u001b[33m3. Multiplication\u001b[39m\u001b[38;5;130;01m\\n\u001b[39;00m\u001b[33m4. Divivsion\u001b[39m\u001b[38;5;130;01m\\n\u001b[39;00m\u001b[33m0. Exit\u001b[39m\u001b[33m\"\u001b[39m)\n\u001b[32m---> \u001b[39m\u001b[32m13\u001b[39m ch = \u001b[38;5;28mint\u001b[39m(\u001b[38;5;28;43minput\u001b[39;49m\u001b[43m(\u001b[49m\u001b[33;43m\"\u001b[39;49m\u001b[33;43mEnter your choice\u001b[39;49m\u001b[33;43m\"\u001b[39;49m\u001b[43m)\u001b[49m)\n\u001b[32m     14\u001b[39m \u001b[38;5;28;01mif\u001b[39;00m(ch == \u001b[32m1\u001b[39m):\n\u001b[32m     15\u001b[39m     \u001b[38;5;28mprint\u001b[39m(\u001b[33m\"\u001b[39m\u001b[38;5;130;01m\\n\u001b[39;00m\u001b[33m Addition : \u001b[39m\u001b[38;5;130;01m\\n\u001b[39;00m\u001b[38;5;132;01m{}\u001b[39;00m\u001b[33m + \u001b[39m\u001b[38;5;132;01m{}\u001b[39;00m\u001b[33m = \u001b[39m\u001b[38;5;132;01m{}\u001b[39;00m\u001b[33m\"\u001b[39m.format(a,b,plus(a,b)))\n",
      "\u001b[36mFile \u001b[39m\u001b[32mC:\\Program Files\\Python311\\Lib\\site-packages\\ipykernel\\kernelbase.py:1282\u001b[39m, in \u001b[36mKernel.raw_input\u001b[39m\u001b[34m(self, prompt)\u001b[39m\n\u001b[32m   1280\u001b[39m     msg = \u001b[33m\"\u001b[39m\u001b[33mraw_input was called, but this frontend does not support input requests.\u001b[39m\u001b[33m\"\u001b[39m\n\u001b[32m   1281\u001b[39m     \u001b[38;5;28;01mraise\u001b[39;00m StdinNotImplementedError(msg)\n\u001b[32m-> \u001b[39m\u001b[32m1282\u001b[39m \u001b[38;5;28;01mreturn\u001b[39;00m \u001b[38;5;28;43mself\u001b[39;49m\u001b[43m.\u001b[49m\u001b[43m_input_request\u001b[49m\u001b[43m(\u001b[49m\n\u001b[32m   1283\u001b[39m \u001b[43m    \u001b[49m\u001b[38;5;28;43mstr\u001b[39;49m\u001b[43m(\u001b[49m\u001b[43mprompt\u001b[49m\u001b[43m)\u001b[49m\u001b[43m,\u001b[49m\n\u001b[32m   1284\u001b[39m \u001b[43m    \u001b[49m\u001b[38;5;28;43mself\u001b[39;49m\u001b[43m.\u001b[49m\u001b[43m_parent_ident\u001b[49m\u001b[43m[\u001b[49m\u001b[33;43m\"\u001b[39;49m\u001b[33;43mshell\u001b[39;49m\u001b[33;43m\"\u001b[39;49m\u001b[43m]\u001b[49m\u001b[43m,\u001b[49m\n\u001b[32m   1285\u001b[39m \u001b[43m    \u001b[49m\u001b[38;5;28;43mself\u001b[39;49m\u001b[43m.\u001b[49m\u001b[43mget_parent\u001b[49m\u001b[43m(\u001b[49m\u001b[33;43m\"\u001b[39;49m\u001b[33;43mshell\u001b[39;49m\u001b[33;43m\"\u001b[39;49m\u001b[43m)\u001b[49m\u001b[43m,\u001b[49m\n\u001b[32m   1286\u001b[39m \u001b[43m    \u001b[49m\u001b[43mpassword\u001b[49m\u001b[43m=\u001b[49m\u001b[38;5;28;43;01mFalse\u001b[39;49;00m\u001b[43m,\u001b[49m\n\u001b[32m   1287\u001b[39m \u001b[43m\u001b[49m\u001b[43m)\u001b[49m\n",
      "\u001b[36mFile \u001b[39m\u001b[32mC:\\Program Files\\Python311\\Lib\\site-packages\\ipykernel\\kernelbase.py:1325\u001b[39m, in \u001b[36mKernel._input_request\u001b[39m\u001b[34m(self, prompt, ident, parent, password)\u001b[39m\n\u001b[32m   1322\u001b[39m \u001b[38;5;28;01mexcept\u001b[39;00m \u001b[38;5;167;01mKeyboardInterrupt\u001b[39;00m:\n\u001b[32m   1323\u001b[39m     \u001b[38;5;66;03m# re-raise KeyboardInterrupt, to truncate traceback\u001b[39;00m\n\u001b[32m   1324\u001b[39m     msg = \u001b[33m\"\u001b[39m\u001b[33mInterrupted by user\u001b[39m\u001b[33m\"\u001b[39m\n\u001b[32m-> \u001b[39m\u001b[32m1325\u001b[39m     \u001b[38;5;28;01mraise\u001b[39;00m \u001b[38;5;167;01mKeyboardInterrupt\u001b[39;00m(msg) \u001b[38;5;28;01mfrom\u001b[39;00m\u001b[38;5;250m \u001b[39m\u001b[38;5;28;01mNone\u001b[39;00m\n\u001b[32m   1326\u001b[39m \u001b[38;5;28;01mexcept\u001b[39;00m \u001b[38;5;167;01mException\u001b[39;00m:\n\u001b[32m   1327\u001b[39m     \u001b[38;5;28mself\u001b[39m.log.warning(\u001b[33m\"\u001b[39m\u001b[33mInvalid Message:\u001b[39m\u001b[33m\"\u001b[39m, exc_info=\u001b[38;5;28;01mTrue\u001b[39;00m)\n",
      "\u001b[31mKeyboardInterrupt\u001b[39m: Interrupted by user"
     ]
    }
   ],
   "source": [
    "while True:\n",
    "    print(\"--------------------------------------------------------------\")\n",
    "    print(\"CALCULATOR\")\n",
    "    print(\"Enter your numbers\")\n",
    "    a = inp()\n",
    "    if(a == None):\n",
    "        break\n",
    "    b = inp()\n",
    "    if(b == None):\n",
    "        break\n",
    "    \n",
    "    print(\"1. Addition\\n2. Subtraction\\n3. Multiplication\\n4. Divivsion\\n0. Exit\")\n",
    "    ch = int(input(\"Enter your choice\"))\n",
    "    if(ch == 1):\n",
    "        print(\"\\n Addition : \\n{} + {} = {}\".format(a,b,plus(a,b)))\n",
    "    elif(ch == 2):\n",
    "        print(\"\\n Subtraction : \\n{} - {} = {}\".format(a,b,subtract(a,b)))\n",
    "    elif(ch == 3):\n",
    "        print(\"\\n Multiplication : \\n{} * {} = {}\".format(a,b,multiply(a,b)))\n",
    "    elif(ch == 4):\n",
    "        print(\"\\n Division : \\n{} / {} = {}\".format(a,b,div(a,b)))\n",
    "    elif(ch == 0):\n",
    "        print(\"\\n Exiting\")\n",
    "        break\n",
    "    else:\n",
    "        print(\"\\n Invalid Input\")\n"
   ]
  },
  {
   "cell_type": "code",
   "execution_count": null,
   "id": "45b6cfea-07b0-4b93-8668-5d705d210c92",
   "metadata": {},
   "outputs": [],
   "source": []
  }
 ],
 "metadata": {
  "kernelspec": {
   "display_name": "Python 3 (ipykernel)",
   "language": "python",
   "name": "python3"
  },
  "language_info": {
   "codemirror_mode": {
    "name": "ipython",
    "version": 3
   },
   "file_extension": ".py",
   "mimetype": "text/x-python",
   "name": "python",
   "nbconvert_exporter": "python",
   "pygments_lexer": "ipython3",
   "version": "3.11.0"
  }
 },
 "nbformat": 4,
 "nbformat_minor": 5
}
