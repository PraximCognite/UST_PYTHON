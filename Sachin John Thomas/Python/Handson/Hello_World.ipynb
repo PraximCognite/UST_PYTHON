{
 "cells": [
  {
   "cell_type": "code",
   "execution_count": 7,
   "id": "97dfb11d-8f98-43a0-8ebc-3fefc8707729",
   "metadata": {},
   "outputs": [
    {
     "name": "stdout",
     "output_type": "stream",
     "text": [
      "Value of a :  10\n",
      "Value of b :  20\n"
     ]
    }
   ],
   "source": [
    "a = 10\n",
    "b = 20\n",
    "print(\"Value of a : \",a)\n",
    "print(\"Value of b : \",b)"
   ]
  },
  {
   "cell_type": "code",
   "execution_count": 8,
   "id": "c77d4c85-b3e1-488d-9d38-d89d7b897d2c",
   "metadata": {},
   "outputs": [
    {
     "name": "stdout",
     "output_type": "stream",
     "text": [
      "Value of a : 10\n",
      "Value of b : 20\n"
     ]
    }
   ],
   "source": [
    "print(\"Value of a : {}\\nValue of b : {}\".format(a,b))"
   ]
  },
  {
   "cell_type": "code",
   "execution_count": 9,
   "id": "ee0abc54-e052-44d8-b957-39574958e4f9",
   "metadata": {},
   "outputs": [
    {
     "name": "stdout",
     "output_type": "stream",
     "text": [
      "Value of a : 20\n",
      "Value of b : 10\n"
     ]
    }
   ],
   "source": [
    "print(\"Value of a : {}\\nValue of b : {}\".format(b,a))"
   ]
  },
  {
   "cell_type": "code",
   "execution_count": 10,
   "id": "a642e3e1-6c80-4b25-984f-31d32f24fccb",
   "metadata": {},
   "outputs": [
    {
     "name": "stdout",
     "output_type": "stream",
     "text": [
      "Value of a : 10\n",
      "Value of b : 20\n"
     ]
    }
   ],
   "source": [
    "print(\"Value of a : {1}\\nValue of b : {0}\".format(b,a))"
   ]
  },
  {
   "cell_type": "code",
   "execution_count": 12,
   "id": "0a8405d1-c74a-4182-8dd5-91d0ef927059",
   "metadata": {},
   "outputs": [
    {
     "name": "stdout",
     "output_type": "stream",
     "text": [
      "i love my country, name_is India\n"
     ]
    }
   ],
   "source": [
    "my = \"country\"; name_is = \"India\"\n",
    "print(\"i love my {1}, name_is {0}\".format(name_is,my))"
   ]
  },
  {
   "cell_type": "code",
   "execution_count": 14,
   "id": "2533b691-57a3-43f0-9ac7-eb76ba892d81",
   "metadata": {},
   "outputs": [
    {
     "name": "stdout",
     "output_type": "stream",
     "text": [
      "my name is Bill,Gate from Microsoft\n"
     ]
    }
   ],
   "source": [
    "print(\"my name is {},{} from {}\".format('Bill','Gate','Microsoft'))"
   ]
  },
  {
   "cell_type": "markdown",
   "id": "f9ca3442-e9be-400a-9a24-94812ab47eb1",
   "metadata": {},
   "source": [
    "num = input(\"Enter a value : \")\n"
   ]
  },
  {
   "cell_type": "code",
   "execution_count": 15,
   "id": "433cc82b-858e-4c8f-969f-b2788625f1d5",
   "metadata": {},
   "outputs": [
    {
     "name": "stdin",
     "output_type": "stream",
     "text": [
      "Enter a value :  15\n"
     ]
    },
    {
     "name": "stdout",
     "output_type": "stream",
     "text": [
      "15\n"
     ]
    }
   ],
   "source": [
    "num = input(\"Enter a value : \")\n",
    "print(num)"
   ]
  },
  {
   "cell_type": "code",
   "execution_count": 16,
   "id": "553b360e-e1e9-4645-ad64-5330d07aaa7c",
   "metadata": {},
   "outputs": [
    {
     "name": "stdin",
     "output_type": "stream",
     "text": [
      "Enter a value :  star\n"
     ]
    },
    {
     "ename": "ValueError",
     "evalue": "invalid literal for int() with base 10: 'star'",
     "output_type": "error",
     "traceback": [
      "\u001b[31m---------------------------------------------------------------------------\u001b[39m",
      "\u001b[31mValueError\u001b[39m                                Traceback (most recent call last)",
      "\u001b[36mCell\u001b[39m\u001b[36m \u001b[39m\u001b[32mIn[16]\u001b[39m\u001b[32m, line 1\u001b[39m\n\u001b[32m----> \u001b[39m\u001b[32m1\u001b[39m num = \u001b[38;5;28;43mint\u001b[39;49m\u001b[43m(\u001b[49m\u001b[38;5;28;43minput\u001b[39;49m\u001b[43m(\u001b[49m\u001b[33;43m\"\u001b[39;49m\u001b[33;43mEnter a value : \u001b[39;49m\u001b[33;43m\"\u001b[39;49m\u001b[43m)\u001b[49m\u001b[43m)\u001b[49m\n\u001b[32m      2\u001b[39m \u001b[38;5;28mprint\u001b[39m(num)\n",
      "\u001b[31mValueError\u001b[39m: invalid literal for int() with base 10: 'star'"
     ]
    }
   ],
   "source": [
    "num = int(input(\"Enter a value : \"))\n",
    "print(num)"
   ]
  },
  {
   "cell_type": "code",
   "execution_count": 21,
   "id": "1b39e1be-3f5e-4c7c-b789-8ed82900fbda",
   "metadata": {},
   "outputs": [
    {
     "name": "stdin",
     "output_type": "stream",
     "text": [
      "Enter 1st digit of PIN no :  9\n",
      "Enter 2nd digit of PIN no :  0\n",
      "Enter 3rd digit of PIN no :  9\n",
      "Enter 4th digit of PIN no :  9\n"
     ]
    },
    {
     "name": "stdout",
     "output_type": "stream",
     "text": [
      "('9', '0', '9', '9')\n"
     ]
    }
   ],
   "source": [
    "x = input(\"Enter 1st digit of PIN no : \"),input(\"Enter 2nd digit of PIN no : \"), input(\"Enter 3rd digit of PIN no : \"), input(\"Enter 4th digit of PIN no : \")\n",
    "print(x)"
   ]
  },
  {
   "cell_type": "code",
   "execution_count": 22,
   "id": "8bf1fb13-9009-429f-9424-1904feb2f3ca",
   "metadata": {},
   "outputs": [
    {
     "name": "stdout",
     "output_type": "stream",
     "text": [
      "104857600000000000000000000\n"
     ]
    }
   ],
   "source": [
    "a= 20\n",
    "b = 20\n",
    "print(a**b)"
   ]
  },
  {
   "cell_type": "code",
   "execution_count": 23,
   "id": "c2fe4f76-8acf-42b9-a386-a6aad7a06000",
   "metadata": {},
   "outputs": [
    {
     "name": "stdout",
     "output_type": "stream",
     "text": [
      "True\n"
     ]
    }
   ],
   "source": [
    "a =True\n",
    "b = False\n",
    "print(not b)"
   ]
  },
  {
   "cell_type": "code",
   "execution_count": 25,
   "id": "66f9c296-b371-4545-8a66-de3c4e910273",
   "metadata": {},
   "outputs": [
    {
     "name": "stdout",
     "output_type": "stream",
     "text": [
      "140706868614056\n",
      "140706868614056\n",
      "False\n"
     ]
    }
   ],
   "source": [
    "a = 5\n",
    "b = 5\n",
    "print(id(a))\n",
    "print(id(b))\n",
    "print(a is not b)"
   ]
  },
  {
   "cell_type": "code",
   "execution_count": 26,
   "id": "f03776f5-25f7-47b3-8e9f-f2d24fbf9be8",
   "metadata": {},
   "outputs": [
    {
     "name": "stdout",
     "output_type": "stream",
     "text": [
      "2373947741056\n",
      "2373947822208\n",
      "False\n"
     ]
    }
   ],
   "source": [
    "L1 = [1,2,3]\n",
    "L2 = [1,2,3]\n",
    "\n",
    "print(id(L1))\n",
    "print(id(L2))\n",
    "print(L1 is L2)"
   ]
  },
  {
   "cell_type": "code",
   "execution_count": 28,
   "id": "c5d1a8fb-7baf-42bc-8082-055a0e36eedf",
   "metadata": {},
   "outputs": [
    {
     "name": "stdout",
     "output_type": "stream",
     "text": [
      "False\n"
     ]
    }
   ],
   "source": [
    "L1 = {1,2,3,4}\n",
    "print(5 in L1)"
   ]
  },
  {
   "cell_type": "code",
   "execution_count": 32,
   "id": "33ab2955-5cf3-4284-95e0-2c8adf35f4b3",
   "metadata": {},
   "outputs": [
    {
     "name": "stdout",
     "output_type": "stream",
     "text": [
      "x is positive no.\n"
     ]
    }
   ],
   "source": [
    "x = 10\n",
    "if(x>0):\n",
    "    print(\"x is positive no.\")\n",
    "else:\n",
    "    print(\"x is negative no.\")"
   ]
  },
  {
   "cell_type": "code",
   "execution_count": 39,
   "id": "f64f5dee-15ac-4d9f-abc0-beda8db34639",
   "metadata": {},
   "outputs": [
    {
     "name": "stdout",
     "output_type": "stream",
     "text": [
      "This will print always\n"
     ]
    }
   ],
   "source": [
    "num = 10\n",
    "if None:\n",
    "    print(\"number is positive\")\n",
    "\n",
    "print(\"This will print always\")"
   ]
  },
  {
   "cell_type": "code",
   "execution_count": 40,
   "id": "092ef494-f8e1-46fa-8561-3b20d155c5f5",
   "metadata": {},
   "outputs": [
    {
     "name": "stdout",
     "output_type": "stream",
     "text": [
      "1st Division\n"
     ]
    }
   ],
   "source": [
    "num = 19\n",
    "if(num>=10 and 20>num):\n",
    "    print(\"1st Division\")\n",
    "elif(num>10 and 20<num):\n",
    "    print(\"2nd Division\")\n",
    "elif(num>10 and 12>=num):\n",
    "    print(\"3rd Division\")\n",
    "else:\n",
    "    print(\"Fail\")"
   ]
  },
  {
   "cell_type": "markdown",
   "id": "b74f7746-78b8-4701-a104-5e9c4ea13476",
   "metadata": {},
   "source": [
    "Largest of the 3 numbers"
   ]
  },
  {
   "cell_type": "code",
   "execution_count": 51,
   "id": "6ee59562-15ac-4c52-804c-b4a56a0e5114",
   "metadata": {},
   "outputs": [
    {
     "name": "stdout",
     "output_type": "stream",
     "text": [
      "93  is the largest\n"
     ]
    }
   ],
   "source": [
    "a = 20\n",
    "b = 30\n",
    "c = 93\n",
    "maxi = a \n",
    "if(b>maxi):\n",
    "    maxi = b\n",
    "if(c>maxi):\n",
    "    maxi = c\n",
    "print(maxi,\" is the largest\")"
   ]
  },
  {
   "cell_type": "markdown",
   "id": "a4ab68cb-ebac-4418-a022-aa04b259ab95",
   "metadata": {},
   "source": [
    "if"
   ]
  },
  {
   "cell_type": "code",
   "execution_count": 52,
   "id": "6103ac40-07a8-4a74-94d5-09d692513db9",
   "metadata": {},
   "outputs": [
    {
     "name": "stdout",
     "output_type": "stream",
     "text": [
      "2nd division\n"
     ]
    }
   ],
   "source": [
    "num = 20\n",
    "if(num>10 or 10>num):\n",
    "    if(num>20):\n",
    "        print(\"number is positive\")\n",
    "    else:\n",
    "        print(\"2nd division\")\n",
    "else:\n",
    "    print(\"Fail\")"
   ]
  },
  {
   "cell_type": "code",
   "execution_count": 56,
   "id": "a9ab4a6b-3014-426d-9cb6-b239d2d541cc",
   "metadata": {},
   "outputs": [
    {
     "name": "stdout",
     "output_type": "stream",
     "text": [
      "40\n",
      "32000\n",
      "30720000000\n",
      "37748736000000000000000\n",
      "71248353479884800000000000000000000000000000000\n"
     ]
    }
   ],
   "source": [
    "a = [10,20,30,40,50]\n",
    "product = 2\n",
    "\n",
    "for num in a:\n",
    "    product*=product*num\n",
    "    print(product)"
   ]
  },
  {
   "cell_type": "code",
   "execution_count": 58,
   "id": "e644bdd8-c0c5-41ab-bf90-797f9a167b99",
   "metadata": {},
   "outputs": [
    {
     "name": "stdout",
     "output_type": "stream",
     "text": [
      "0\n",
      "1\n",
      "2\n",
      "3\n",
      "4\n",
      "5\n",
      "6\n",
      "7\n",
      "8\n",
      "9\n"
     ]
    }
   ],
   "source": [
    "for i in range(10):\n",
    "    print(i)"
   ]
  },
  {
   "cell_type": "code",
   "execution_count": 66,
   "id": "29c665fe-3a01-42f0-af16-e46ab684f1b5",
   "metadata": {},
   "outputs": [
    {
     "name": "stdout",
     "output_type": "stream",
     "text": [
      "10\n",
      "0\n",
      "-10\n",
      "-20\n",
      "-30\n",
      "-40\n",
      "-50\n"
     ]
    }
   ],
   "source": [
    "for i in range(10,-51,-10):\n",
    "    print(i)"
   ]
  },
  {
   "cell_type": "code",
   "execution_count": 67,
   "id": "cdf0f112-5a06-4e60-b994-43743c385c89",
   "metadata": {},
   "outputs": [
    {
     "name": "stdout",
     "output_type": "stream",
     "text": [
      "1\n",
      "2\n",
      "3\n",
      "4\n",
      "no data available in x\n"
     ]
    }
   ],
   "source": [
    "x = [1,2,3,4]\n",
    "for data in x :\n",
    "    print(data)\n",
    "else:\n",
    "    print(\"no data available in x\")"
   ]
  },
  {
   "cell_type": "code",
   "execution_count": 69,
   "id": "74c641b9-075f-40a9-899d-f0ddbc91f2be",
   "metadata": {},
   "outputs": [
    {
     "name": "stdout",
     "output_type": "stream",
     "text": [
      "1 is odd\n",
      "2 is even\n",
      "3 is odd\n",
      "4 is even\n",
      "5 is odd\n",
      "6 is even\n",
      "7 is odd\n",
      "8 is even\n",
      "9 is odd\n",
      "10 is even\n"
     ]
    }
   ],
   "source": [
    "for i in range(1,11,1):\n",
    "    if(i%2==0):\n",
    "        print(i,\"is even\")\n",
    "    else:\n",
    "        print(i,\"is odd\")"
   ]
  },
  {
   "cell_type": "code",
   "execution_count": 80,
   "id": "53030bae-93c2-4104-86e0-e6a7867158f9",
   "metadata": {},
   "outputs": [
    {
     "name": "stdout",
     "output_type": "stream",
     "text": [
      "3 is a prime number\n",
      "5 is a prime number\n",
      "7 is a prime number\n",
      "11 is a prime number\n",
      "13 is a prime number\n",
      "17 is a prime number\n",
      "19 is a prime number\n"
     ]
    }
   ],
   "source": [
    "for i in range(3,21):\n",
    "    count = 0\n",
    "    for j in range (2,21):\n",
    "        if(i!=j):\n",
    "            if(i%j==0):\n",
    "                count+=1\n",
    "    if(count==0):\n",
    "            print(i,\"is a prime number\")"
   ]
  },
  {
   "cell_type": "code",
   "execution_count": 87,
   "id": "7d5e8914-0f03-4015-8836-b4077791f96f",
   "metadata": {},
   "outputs": [
    {
     "data": {
      "text/plain": [
       "''"
      ]
     },
     "execution_count": 87,
     "metadata": {},
     "output_type": "execute_result"
    }
   ],
   "source": [
    "word = \"malayalams\"\n",
    "for i in word:\n",
    "    if(i==word[-1]"
   ]
  },
  {
   "cell_type": "code",
   "execution_count": 92,
   "id": "14087d33-93aa-4dc1-bfa6-282865fef582",
   "metadata": {},
   "outputs": [
    {
     "name": "stdout",
     "output_type": "stream",
     "text": [
      "name is RL\n"
     ]
    }
   ],
   "source": [
    "def show_name(name):\n",
    "    print(\"name is\",name)\n",
    "\n",
    "show_name('RL')"
   ]
  },
  {
   "cell_type": "code",
   "execution_count": 99,
   "id": "784255b0-e38f-4bfd-afa9-35ade7f24b48",
   "metadata": {},
   "outputs": [
    {
     "name": "stdout",
     "output_type": "stream",
     "text": [
      "15\n"
     ]
    }
   ],
   "source": [
    "def get_sum(lst):\n",
    "    all = 0\n",
    "    for num in lst:\n",
    "        all+=num\n",
    "    return all\n",
    "\n",
    "plus = get_sum([1,2,3,4,5])\n",
    "print(plus)\n",
    "# print(get_sum.__doc__)"
   ]
  },
  {
   "cell_type": "code",
   "execution_count": 101,
   "id": "56794aeb-5aa8-4c1b-9e49-35aeeced6f94",
   "metadata": {
    "scrolled": true
   },
   "outputs": [
    {
     "name": "stdout",
     "output_type": "stream",
     "text": [
      "Inside Function : this is local variable\n",
      "Inside Function : this is global variable\n",
      "Outside function : this is global variable\n"
     ]
    },
    {
     "ename": "NameError",
     "evalue": "name 'local_var' is not defined",
     "output_type": "error",
     "traceback": [
      "\u001b[31m---------------------------------------------------------------------------\u001b[39m",
      "\u001b[31mNameError\u001b[39m                                 Traceback (most recent call last)",
      "\u001b[36mCell\u001b[39m\u001b[36m \u001b[39m\u001b[32mIn[101]\u001b[39m\u001b[32m, line 9\u001b[39m\n\u001b[32m      7\u001b[39m lst()\n\u001b[32m      8\u001b[39m \u001b[38;5;28mprint\u001b[39m(\u001b[33m\"\u001b[39m\u001b[33mOutside function :\u001b[39m\u001b[33m\"\u001b[39m,global_var)\n\u001b[32m----> \u001b[39m\u001b[32m9\u001b[39m \u001b[38;5;28mprint\u001b[39m(\u001b[43mlocal_var\u001b[49m)\n",
      "\u001b[31mNameError\u001b[39m: name 'local_var' is not defined"
     ]
    }
   ],
   "source": [
    "global_var = \"this is global variable\"\n",
    "\n",
    "def lst():\n",
    "    local_var = \"this is local variable\"\n",
    "    print(\"Inside Function :\",local_var)\n",
    "    print(\"Inside Function :\",global_var)\n",
    "lst()\n",
    "print(\"Outside function :\",global_var)\n",
    "print(local_var)"
   ]
  },
  {
   "cell_type": "code",
   "execution_count": 6,
   "id": "5f5bf0a6-4d2e-4117-839a-b2054c863aa7",
   "metadata": {},
   "outputs": [
    {
     "name": "stdout",
     "output_type": "stream",
     "text": [
      "340 = [1, 2, 4, 5, 10, 17, 20, 34, 68, 85, 170, 340]\n",
      "5 = [1, 5]\n",
      "HCF =  5\n"
     ]
    }
   ],
   "source": [
    "a = 5\n",
    "b = 340\n",
    "a_mul = []\n",
    "b_mul = []\n",
    "if(a<b):\n",
    "    temp = a\n",
    "    a = b\n",
    "    b = temp\n",
    "    \n",
    "for i in range(1,a+1):\n",
    "    if(a%i==0):\n",
    "        a_mul.append(i)\n",
    "    if(b%i==0 and b>=i):\n",
    "        b_mul.append(i)\n",
    "print(a,\"=\",a_mul)\n",
    "print(b,\"=\",b_mul)\n",
    "\n",
    "maxi = 0\n",
    "for i in a_mul:\n",
    "    if(i in b_mul and i>maxi):\n",
    "        maxi = i\n",
    "\n",
    "print(\"HCF = \", maxi)"
   ]
  },
  {
   "cell_type": "code",
   "execution_count": 3,
   "id": "03635472-b55c-44d4-a008-bca60f6c69e8",
   "metadata": {},
   "outputs": [
    {
     "name": "stdout",
     "output_type": "stream",
     "text": [
      "7\n"
     ]
    }
   ],
   "source": [
    "a = 35\n",
    "b = 49\n",
    "while(1):\n",
    "    if(b>a):\n",
    "        b = b%a\n",
    "    else:\n",
    "        a = a%b\n",
    "    if(a==0 or b == 0):\n",
    "        break\n",
    "print(max(a,b))"
   ]
  },
  {
   "cell_type": "code",
   "execution_count": 7,
   "id": "71c61a94-549c-4e20-b6de-95ccdaeda6c6",
   "metadata": {},
   "outputs": [
    {
     "name": "stdout",
     "output_type": "stream",
     "text": [
      "10\n"
     ]
    }
   ],
   "source": [
    "#abs\n",
    "a = -10\n",
    "print(abs(a))"
   ]
  },
  {
   "cell_type": "code",
   "execution_count": 9,
   "id": "bc394a44-3a7d-46ca-ba33-6e606a76ee8b",
   "metadata": {},
   "outputs": [
    {
     "name": "stdout",
     "output_type": "stream",
     "text": [
      "True\n",
      "False\n"
     ]
    }
   ],
   "source": [
    "#all()\n",
    "\n",
    "lst = [1,2,3,4,-1]\n",
    "print(all(lst))\n",
    "lst1 = [0,2,4,8,23]\n",
    "print(all(lst1))"
   ]
  },
  {
   "cell_type": "code",
   "execution_count": 11,
   "id": "f043a4c0-8913-4de0-acf4-e01370e3ea66",
   "metadata": {},
   "outputs": [
    {
     "name": "stdout",
     "output_type": "stream",
     "text": [
      "['__abs__', '__add__', '__and__', '__bool__', '__ceil__', '__class__', '__delattr__', '__dir__', '__divmod__', '__doc__', '__eq__', '__float__', '__floor__', '__floordiv__', '__format__', '__ge__', '__getattribute__', '__getnewargs__', '__getstate__', '__gt__', '__hash__', '__index__', '__init__', '__init_subclass__', '__int__', '__invert__', '__le__', '__lshift__', '__lt__', '__mod__', '__mul__', '__ne__', '__neg__', '__new__', '__or__', '__pos__', '__pow__', '__radd__', '__rand__', '__rdivmod__', '__reduce__', '__reduce_ex__', '__repr__', '__rfloordiv__', '__rlshift__', '__rmod__', '__rmul__', '__ror__', '__round__', '__rpow__', '__rrshift__', '__rshift__', '__rsub__', '__rtruediv__', '__rxor__', '__setattr__', '__sizeof__', '__str__', '__sub__', '__subclasshook__', '__truediv__', '__trunc__', '__xor__', 'as_integer_ratio', 'bit_count', 'bit_length', 'conjugate', 'denominator', 'from_bytes', 'imag', 'numerator', 'real', 'to_bytes']\n"
     ]
    }
   ],
   "source": [
    "a = 2\n",
    "print(dir(a))"
   ]
  },
  {
   "cell_type": "code",
   "execution_count": 12,
   "id": "a5b0ff3c-da87-4744-80ae-a1d74d94234c",
   "metadata": {},
   "outputs": [
    {
     "name": "stdout",
     "output_type": "stream",
     "text": [
      "(6, 1)\n"
     ]
    }
   ],
   "source": [
    "#divmod\n",
    "print(divmod(13,2))"
   ]
  },
  {
   "cell_type": "code",
   "execution_count": 16,
   "id": "efe4b519-a93c-4eb4-b840-c89eb2241459",
   "metadata": {},
   "outputs": [
    {
     "name": "stdout",
     "output_type": "stream",
     "text": [
      "<enumerate object at 0x0000015D410F7060>\n",
      "Index 0 has value 10\n",
      "Index 1 has value 20\n",
      "Index 2 has value 30\n",
      "Index 3 has value 40\n",
      "Index 4 has value 50\n"
     ]
    }
   ],
   "source": [
    "lst = [10,20,30,40,50]\n",
    "print(enumerate(lst,start = 0))\n",
    "\n",
    "for index, num in enumerate(lst,start = 0):\n",
    "    print(\"Index {} has value {}\".format(index,num))"
   ]
  },
  {
   "cell_type": "code",
   "execution_count": 17,
   "id": "1572ff71-fa82-4d16-bc7e-6b29388af641",
   "metadata": {},
   "outputs": [],
   "source": [
    "def check_positive(num):\n",
    "    if num > 0:\n",
    "        return num"
   ]
  },
  {
   "cell_type": "code",
   "execution_count": 25,
   "id": "3680461f-6055-4c7b-840c-5ffcc90534ec",
   "metadata": {},
   "outputs": [
    {
     "name": "stdout",
     "output_type": "stream",
     "text": [
      "[1, 2, 3, 4, 5, 6, 7, 8, 9, 10, 11, 12, 13, 14, 15, 16, 17, 18, 19]\n",
      "[1, 2, 3, 4, 5, 6, 7, 8, 9, 10, 11, 12, 13, 14, 15, 16, 17, 18, 19]\n"
     ]
    }
   ],
   "source": [
    "lst1_list = range(-10,20)\n",
    "\n",
    "lst2_positive = list(filter(check_positive,lst1_list))\n",
    "print(lst2_positive)\n",
    "\n",
    "lst3_positive = list(filter(lambda x:x>0,lst1_list))\n",
    "print(lst3_positive)\n",
    "\n"
   ]
  },
  {
   "cell_type": "code",
   "execution_count": 28,
   "id": "1a092d9d-6fcb-4d91-af07-efde8e4f2702",
   "metadata": {},
   "outputs": [
    {
     "name": "stdout",
     "output_type": "stream",
     "text": [
      "[1, 4, 9, 16]\n",
      "[1, 8, 27, 64]\n"
     ]
    }
   ],
   "source": [
    "lst = [1,2,3,4]\n",
    "\n",
    "squared = []\n",
    "squared1 = []\n",
    "for num in lst:\n",
    "    squared.append(num **2)\n",
    "    squared1.append(num **3)\n",
    "\n",
    "print(squared)\n",
    "print(squared1)"
   ]
  },
  {
   "cell_type": "code",
   "execution_count": 29,
   "id": "4f6af992-13b7-4a57-9411-422702034e68",
   "metadata": {},
   "outputs": [
    {
     "name": "stdout",
     "output_type": "stream",
     "text": [
      "[1, 4, 9, 16]\n"
     ]
    }
   ],
   "source": [
    "def hallsquare(num):\n",
    "    return(num**2)\n",
    "\n",
    "squared = list(map(lambda x : x **2, lst))\n",
    "print(squared)"
   ]
  },
  {
   "cell_type": "code",
   "execution_count": 31,
   "id": "9498e17f-a8e8-4726-85be-4de1922f026f",
   "metadata": {},
   "outputs": [
    {
     "name": "stdout",
     "output_type": "stream",
     "text": [
      "24\n"
     ]
    }
   ],
   "source": [
    "product = 1\n",
    "lst = [1,2,3,4]\n",
    "\n",
    "for num in lst:\n",
    "    product *= num\n",
    "\n",
    "print(product)"
   ]
  },
  {
   "cell_type": "markdown",
   "id": "a70dd0b0-ea00-44f6-be83-8c7edafcec4b",
   "metadata": {},
   "source": [
    "reduce"
   ]
  },
  {
   "cell_type": "code",
   "execution_count": 32,
   "id": "973e0cde-3b9c-4b2f-9aed-61ac987d1e24",
   "metadata": {},
   "outputs": [],
   "source": [
    "from functools import reduce"
   ]
  },
  {
   "cell_type": "code",
   "execution_count": 36,
   "id": "85e50b91-95bf-4997-840b-d67e37ac3d12",
   "metadata": {},
   "outputs": [
    {
     "name": "stdout",
     "output_type": "stream",
     "text": [
      "24\n"
     ]
    }
   ],
   "source": [
    "def multiply(x,y):\n",
    "    return x*y;\n",
    "\n",
    "product = reduce(multiply,lst)\n",
    "# product = map(multiply,lst)\n",
    "print(product)"
   ]
  },
  {
   "cell_type": "code",
   "execution_count": 37,
   "id": "d05e2cf6-0ec0-40f5-85e9-ab567734bf9f",
   "metadata": {},
   "outputs": [
    {
     "name": "stdout",
     "output_type": "stream",
     "text": [
      "24\n"
     ]
    }
   ],
   "source": [
    "product = reduce(lambda x,y: x*y,lst)\n",
    "print(product)"
   ]
  },
  {
   "cell_type": "markdown",
   "id": "56736620-56c3-4b5d-adc1-3c0aa4044525",
   "metadata": {},
   "source": [
    "reduce - Double Arguement\n",
    "\n",
    "Map - Single Arguement\n",
    "\n",
    "Filter - Single arguement"
   ]
  },
  {
   "cell_type": "code",
   "execution_count": 5,
   "id": "1aa923d9-77b3-4d20-b72b-287b34cbc77c",
   "metadata": {},
   "outputs": [
    {
     "data": {
      "text/plain": [
       "6"
      ]
     },
     "execution_count": 5,
     "metadata": {},
     "output_type": "execute_result"
    }
   ],
   "source": [
    "z = 1\n",
    "def say(x,y=1,z=4):\n",
    "    z =3\n",
    "    prod = x + y + z\n",
    "    return prod\n",
    "\n",
    "say(2,z = 5)"
   ]
  },
  {
   "cell_type": "code",
   "execution_count": 10,
   "id": "2057b304-f610-47a9-ae71-d0fa1150778a",
   "metadata": {},
   "outputs": [
    {
     "data": {
      "text/plain": [
       "3"
      ]
     },
     "execution_count": 10,
     "metadata": {},
     "output_type": "execute_result"
    }
   ],
   "source": [
    "def say(x,y=1):\n",
    "    prod = x + y\n",
    "    return prod\n",
    "say(1,2)"
   ]
  },
  {
   "cell_type": "code",
   "execution_count": 11,
   "id": "9ef22f46-250d-4fec-8ef3-4626c41adb45",
   "metadata": {},
   "outputs": [
    {
     "ename": "SyntaxError",
     "evalue": "non-default argument follows default argument (1129972344.py, line 1)",
     "output_type": "error",
     "traceback": [
      "  \u001b[36mCell\u001b[39m\u001b[36m \u001b[39m\u001b[32mIn[11]\u001b[39m\u001b[32m, line 1\u001b[39m\n\u001b[31m    \u001b[39m\u001b[31mdef say(x=1,y):\u001b[39m\n                ^\n\u001b[31mSyntaxError\u001b[39m\u001b[31m:\u001b[39m non-default argument follows default argument\n"
     ]
    }
   ],
   "source": [
    "def say(x=1,y):\n",
    "    prod = x + y\n",
    "    return prod\n",
    "say(1,2)"
   ]
  },
  {
   "cell_type": "code",
   "execution_count": 12,
   "id": "6323511e-a772-40e5-990c-9760b3f23db4",
   "metadata": {},
   "outputs": [],
   "source": [
    "import os "
   ]
  },
  {
   "cell_type": "code",
   "execution_count": 14,
   "id": "e651b90a-1882-4ec3-8589-c42f805476ff",
   "metadata": {},
   "outputs": [
    {
     "data": {
      "text/plain": [
       "'C:\\\\Users\\\\Administrator\\\\Python'"
      ]
     },
     "execution_count": 14,
     "metadata": {},
     "output_type": "execute_result"
    }
   ],
   "source": [
    "os.getcwd()"
   ]
  },
  {
   "cell_type": "code",
   "execution_count": 31,
   "id": "fcb94148-26b7-43d2-b957-ff5a848c0a93",
   "metadata": {},
   "outputs": [],
   "source": [
    "os.getenv(\"/Users/Administrator/Python\")\n",
    "lst = open(\"my.txt\",\"w\")\n",
    "lst.write(\"Testing the os\\n\")\n",
    "lst.write(\"Writing another text\")\n",
    "lst.close()"
   ]
  },
  {
   "cell_type": "code",
   "execution_count": 34,
   "id": "98544aad-31a0-417f-bb4e-0afa6c24896a",
   "metadata": {},
   "outputs": [
    {
     "data": {
      "text/plain": [
       "'Testi'"
      ]
     },
     "execution_count": 34,
     "metadata": {},
     "output_type": "execute_result"
    }
   ],
   "source": [
    "readf = open(\"my.txt\",\"r\")\n",
    "readf.read(5)"
   ]
  },
  {
   "cell_type": "code",
   "execution_count": 23,
   "id": "c951f9d9-5d46-460f-a713-d7598c87190d",
   "metadata": {},
   "outputs": [
    {
     "data": {
      "text/plain": [
       "''"
      ]
     },
     "execution_count": 23,
     "metadata": {},
     "output_type": "execute_result"
    }
   ],
   "source": [
    "readf.read(1)"
   ]
  },
  {
   "cell_type": "code",
   "execution_count": 22,
   "id": "eeb78dab-b21e-473d-8f24-fc3de3f02a29",
   "metadata": {},
   "outputs": [
    {
     "data": {
      "text/plain": [
       "''"
      ]
     },
     "execution_count": 22,
     "metadata": {},
     "output_type": "execute_result"
    }
   ],
   "source": [
    "readf.read(7)"
   ]
  },
  {
   "cell_type": "code",
   "execution_count": 35,
   "id": "635afe5c-02fb-4095-bebf-408f812e1de7",
   "metadata": {},
   "outputs": [
    {
     "data": {
      "text/plain": [
       "5"
      ]
     },
     "execution_count": 35,
     "metadata": {},
     "output_type": "execute_result"
    }
   ],
   "source": [
    "readf.tell()"
   ]
  },
  {
   "cell_type": "code",
   "execution_count": 37,
   "id": "67d0923f-7f8d-4b1f-a944-072fca749f91",
   "metadata": {},
   "outputs": [
    {
     "data": {
      "text/plain": [
       "'Testing '"
      ]
     },
     "execution_count": 37,
     "metadata": {},
     "output_type": "execute_result"
    }
   ],
   "source": [
    "readf = open(\"my.txt\",\"r\")\n",
    "readf.read(8)"
   ]
  },
  {
   "cell_type": "code",
   "execution_count": 38,
   "id": "ece20851-9b58-4f7e-a357-8acf86ed7360",
   "metadata": {},
   "outputs": [
    {
     "data": {
      "text/plain": [
       "5"
      ]
     },
     "execution_count": 38,
     "metadata": {},
     "output_type": "execute_result"
    }
   ],
   "source": [
    "readf.seek(5)"
   ]
  },
  {
   "cell_type": "code",
   "execution_count": 40,
   "id": "4468fdfa-9ccf-4c30-9ed2-59491bb0c54a",
   "metadata": {},
   "outputs": [
    {
     "data": {
      "text/plain": [
       "'ng the os\\nWriting another text'"
      ]
     },
     "execution_count": 40,
     "metadata": {},
     "output_type": "execute_result"
    }
   ],
   "source": [
    "readf.read()"
   ]
  },
  {
   "cell_type": "code",
   "execution_count": 41,
   "id": "ac18cbd6-5009-48e4-99d3-9824e4094558",
   "metadata": {},
   "outputs": [
    {
     "data": {
      "text/plain": [
       "'Testing the os\\n'"
      ]
     },
     "execution_count": 41,
     "metadata": {},
     "output_type": "execute_result"
    }
   ],
   "source": [
    "readl = open(\"my.txt\",\"r\")\n",
    "readl.readline()"
   ]
  },
  {
   "cell_type": "code",
   "execution_count": 42,
   "id": "0ef51658-b1e6-4fa9-8fd0-5e40ce2c26da",
   "metadata": {},
   "outputs": [
    {
     "data": {
      "text/plain": [
       "'Writing another text'"
      ]
     },
     "execution_count": 42,
     "metadata": {},
     "output_type": "execute_result"
    }
   ],
   "source": [
    "readl.readline()s"
   ]
  },
  {
   "cell_type": "code",
   "execution_count": 43,
   "id": "abaa27e0-1731-47e9-a633-1f6255bff956",
   "metadata": {},
   "outputs": [
    {
     "name": "stdout",
     "output_type": "stream",
     "text": [
      "Testing the os\n",
      "\n",
      "Writing another text\n"
     ]
    }
   ],
   "source": [
    "readf.seek(0)\n",
    "for line in readf:\n",
    "    print(line)"
   ]
  },
  {
   "cell_type": "code",
   "execution_count": 53,
   "id": "dde5d594-ad28-4609-b6ec-5d89c39da847",
   "metadata": {},
   "outputs": [],
   "source": [
    "readf.close()\n",
    "readl.close()\n",
    "lst.close()"
   ]
  },
  {
   "cell_type": "code",
   "execution_count": 54,
   "id": "6f6e433a-9821-4bef-887b-c9d91ae99418",
   "metadata": {},
   "outputs": [
    {
     "ename": "PermissionError",
     "evalue": "[WinError 32] The process cannot access the file because it is being used by another process: 'my.txt' -> 'rename.txt'",
     "output_type": "error",
     "traceback": [
      "\u001b[31m---------------------------------------------------------------------------\u001b[39m",
      "\u001b[31mPermissionError\u001b[39m                           Traceback (most recent call last)",
      "\u001b[36mCell\u001b[39m\u001b[36m \u001b[39m\u001b[32mIn[54]\u001b[39m\u001b[32m, line 1\u001b[39m\n\u001b[32m----> \u001b[39m\u001b[32m1\u001b[39m \u001b[43mos\u001b[49m\u001b[43m.\u001b[49m\u001b[43mrename\u001b[49m\u001b[43m(\u001b[49m\u001b[33;43m\"\u001b[39;49m\u001b[33;43mmy.txt\u001b[39;49m\u001b[33;43m\"\u001b[39;49m\u001b[43m,\u001b[49m\u001b[33;43m\"\u001b[39;49m\u001b[33;43mrename.txt\u001b[39;49m\u001b[33;43m\"\u001b[39;49m\u001b[43m)\u001b[49m\n",
      "\u001b[31mPermissionError\u001b[39m: [WinError 32] The process cannot access the file because it is being used by another process: 'my.txt' -> 'rename.txt'"
     ]
    }
   ],
   "source": [
    "os.rename(\"my.txt\",\"rename.txt\")"
   ]
  },
  {
   "cell_type": "code",
   "execution_count": null,
   "id": "e48283f7-7abd-40e3-bbd1-9db41a0d5b3d",
   "metadata": {},
   "outputs": [],
   "source": []
  },
  {
   "cell_type": "code",
   "execution_count": 55,
   "id": "7a8678d5-ab88-42c6-a1ad-1ee91706d1e8",
   "metadata": {},
   "outputs": [
    {
     "ename": "AttributeError",
     "evalue": "module 'os' has no attribute 'delete'",
     "output_type": "error",
     "traceback": [
      "\u001b[31m---------------------------------------------------------------------------\u001b[39m",
      "\u001b[31mAttributeError\u001b[39m                            Traceback (most recent call last)",
      "\u001b[36mCell\u001b[39m\u001b[36m \u001b[39m\u001b[32mIn[55]\u001b[39m\u001b[32m, line 1\u001b[39m\n\u001b[32m----> \u001b[39m\u001b[32m1\u001b[39m \u001b[43mos\u001b[49m\u001b[43m.\u001b[49m\u001b[43mdelete\u001b[49m(\u001b[33m\"\u001b[39m\u001b[33m\"\u001b[39m)\n",
      "\u001b[31mAttributeError\u001b[39m: module 'os' has no attribute 'delete'"
     ]
    }
   ],
   "source": [
    "os.delete(\"\")"
   ]
  },
  {
   "cell_type": "code",
   "execution_count": 57,
   "id": "04d769c2-62cc-463a-b0fc-2a44592331ea",
   "metadata": {},
   "outputs": [
    {
     "data": {
      "text/plain": [
       "'C:\\\\Users\\\\Administrator\\\\Python'"
      ]
     },
     "execution_count": 57,
     "metadata": {},
     "output_type": "execute_result"
    }
   ],
   "source": [
    "os.getcwd()"
   ]
  },
  {
   "cell_type": "code",
   "execution_count": 61,
   "id": "4e0cfbd5-ddb4-4cf6-bd9b-9e4febb7938b",
   "metadata": {},
   "outputs": [],
   "source": [
    "os.chdir(\"/Users/Administrator\")"
   ]
  },
  {
   "cell_type": "code",
   "execution_count": 62,
   "id": "784fe933-b18d-4e2c-9f33-b57cf73cc61a",
   "metadata": {},
   "outputs": [],
   "source": [
    "os.chdir(\"/Users/Administrator/Python\")"
   ]
  },
  {
   "cell_type": "code",
   "execution_count": 64,
   "id": "31671002-78f0-4097-8ed6-85c121372e3a",
   "metadata": {},
   "outputs": [
    {
     "data": {
      "text/plain": [
       "['.ipynb_checkpoints', 'Calculator.ipynb', 'Hello_World.ipynb', 'my.txt']"
      ]
     },
     "execution_count": 64,
     "metadata": {},
     "output_type": "execute_result"
    }
   ],
   "source": [
    "os.listdir(os.getcwd())"
   ]
  },
  {
   "cell_type": "code",
   "execution_count": 65,
   "id": "f096c8e6-0eab-4023-a46f-911d4f2787bf",
   "metadata": {},
   "outputs": [
    {
     "data": {
      "text/plain": [
       "['.ipynb_checkpoints',\n",
       " 'Calculator.ipynb',\n",
       " 'dirnew',\n",
       " 'Hello_World.ipynb',\n",
       " 'my.txt']"
      ]
     },
     "execution_count": 65,
     "metadata": {},
     "output_type": "execute_result"
    }
   ],
   "source": [
    "os.mkdir(\"dirnew\")\n",
    "os.listdir(os.getcwd())"
   ]
  },
  {
   "cell_type": "code",
   "execution_count": 66,
   "id": "97cb4f6e-4809-413a-a511-8adf658379b1",
   "metadata": {},
   "outputs": [],
   "source": [
    "os.rmdir(\"dirnew\")"
   ]
  },
  {
   "cell_type": "code",
   "execution_count": null,
   "id": "e73e1f17-0b3d-4d1d-8793-4d16f82c9c7f",
   "metadata": {},
   "outputs": [],
   "source": []
  }
 ],
 "metadata": {
  "kernelspec": {
   "display_name": "Python 3 (ipykernel)",
   "language": "python",
   "name": "python3"
  },
  "language_info": {
   "codemirror_mode": {
    "name": "ipython",
    "version": 3
   },
   "file_extension": ".py",
   "mimetype": "text/x-python",
   "name": "python",
   "nbconvert_exporter": "python",
   "pygments_lexer": "ipython3",
   "version": "3.11.0"
  }
 },
 "nbformat": 4,
 "nbformat_minor": 5
}
