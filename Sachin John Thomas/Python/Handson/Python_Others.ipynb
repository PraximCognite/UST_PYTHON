{
 "cells": [
  {
   "cell_type": "code",
   "execution_count": 2,
   "id": "7d7e9754-1045-42c3-ac42-ac02971e3371",
   "metadata": {},
   "outputs": [
    {
     "name": "stdout",
     "output_type": "stream",
     "text": [
      "3\n"
     ]
    }
   ],
   "source": [
    "x = [1,2,3,4,5]\n",
    "\n",
    "for data in x:\n",
    "    if data == 3:\n",
    "        print(data)\n",
    "        break\n",
    "\n",
    "else:\n",
    "    print(\"no. nt available\")"
   ]
  },
  {
   "cell_type": "code",
   "execution_count": 21,
   "id": "14cef384-6f60-4948-b2e9-ff80857172fc",
   "metadata": {},
   "outputs": [],
   "source": [
    "lst = ['one','two','three','four']\n",
    "lst1 = ['five','six']"
   ]
  },
  {
   "cell_type": "code",
   "execution_count": 12,
   "id": "5146dd9d-49d9-4757-89b8-335d66045993",
   "metadata": {},
   "outputs": [
    {
     "data": {
      "text/plain": [
       "['one', 'two', 'three', 'four', ['five', 'six']]"
      ]
     },
     "execution_count": 12,
     "metadata": {},
     "output_type": "execute_result"
    }
   ],
   "source": [
    "lst.append(lst1)\n",
    "lst"
   ]
  },
  {
   "cell_type": "code",
   "execution_count": 22,
   "id": "eef33e59-b167-4461-b82e-b98c15951ffb",
   "metadata": {},
   "outputs": [
    {
     "data": {
      "text/plain": [
       "['one', 'two', 'three', 'four', 'five', 'six']"
      ]
     },
     "execution_count": 22,
     "metadata": {},
     "output_type": "execute_result"
    }
   ],
   "source": [
    "lst.extend(lst1)\n",
    "lst"
   ]
  },
  {
   "cell_type": "code",
   "execution_count": 15,
   "id": "737bbcbe-2bad-466e-8187-428816e066cb",
   "metadata": {},
   "outputs": [
    {
     "data": {
      "text/plain": [
       "['five', 'six']"
      ]
     },
     "execution_count": 15,
     "metadata": {},
     "output_type": "execute_result"
    }
   ],
   "source": [
    "lst[4]\n"
   ]
  },
  {
   "cell_type": "code",
   "execution_count": 3,
   "id": "a3af4a8a-49db-47fc-9112-fb051d5a7638",
   "metadata": {},
   "outputs": [
    {
     "name": "stdout",
     "output_type": "stream",
     "text": [
      "two\n",
      "['one', 'three', 'four']\n"
     ]
    }
   ],
   "source": [
    "a = lst.pop(1)\n",
    "print(a)\n",
    "print(lst)"
   ]
  },
  {
   "cell_type": "code",
   "execution_count": 7,
   "id": "d3d652a5-8a59-459f-b4fd-4a0f779b8a17",
   "metadata": {},
   "outputs": [
    {
     "data": {
      "text/plain": [
       "['four', 'three', 'two', 'one']"
      ]
     },
     "execution_count": 7,
     "metadata": {},
     "output_type": "execute_result"
    }
   ],
   "source": [
    "lst.reverse()\n",
    "lst"
   ]
  },
  {
   "cell_type": "code",
   "execution_count": 8,
   "id": "f4905ce2-241b-474d-bbd9-c6aa402735b8",
   "metadata": {},
   "outputs": [],
   "source": [
    "lst = ['one','two','three','four']"
   ]
  },
  {
   "cell_type": "code",
   "execution_count": 9,
   "id": "e1145085-7792-4366-986d-ec0b606a2b67",
   "metadata": {},
   "outputs": [
    {
     "name": "stdout",
     "output_type": "stream",
     "text": [
      "[-3, -1, 1, 2, 2.0, 4, 5, 9, 312]\n",
      "[312, 9, 5, 4, 2, 2.0, 1, -1, -3]\n"
     ]
    }
   ],
   "source": [
    "a = [1,5,9,2,2.0,-1,312,4,-3]\n",
    "b = sorted(a)\n",
    "c = sorted(a,reverse = True)\n",
    "print(b)\n",
    "print(c)"
   ]
  },
  {
   "cell_type": "code",
   "execution_count": 38,
   "id": "7d508a5a-c949-4659-b7b6-e23cd811fd1e",
   "metadata": {},
   "outputs": [
    {
     "data": {
      "text/plain": [
       "['Good', 'Bad', ['Ugly']]"
      ]
     },
     "execution_count": 38,
     "metadata": {},
     "output_type": "execute_result"
    }
   ],
   "source": [
    "a = ['Good']\n",
    "b = ['Bad']\n",
    "c = ['Ugly']\n",
    "d = a+b\n",
    "d.append(c)\n",
    "d"
   ]
  },
  {
   "cell_type": "code",
   "execution_count": 15,
   "id": "942ae1a3-2866-4d23-9196-ee825b627cf3",
   "metadata": {},
   "outputs": [
    {
     "name": "stdout",
     "output_type": "stream",
     "text": [
      "[0, 1, 4, 9, 16, 25, 36, 49, 64, 81]\n"
     ]
    }
   ],
   "source": [
    "power = [(i**2)for i in range(10)]\n",
    "print(power)"
   ]
  },
  {
   "cell_type": "code",
   "execution_count": 17,
   "id": "a8d61396-48af-454f-bbaa-4b7f0bbcd33b",
   "metadata": {},
   "outputs": [
    {
     "name": "stdout",
     "output_type": "stream",
     "text": [
      "[(0, 0), (1, 1), (2, 4), (3, 9), (4, 16), (5, 25), (6, 36), (7, 49), (8, 64), (9, 81)]\n"
     ]
    }
   ],
   "source": [
    "lst = [-10,-20,-20,1,2,3,4]\n",
    "lst2 = [(i,i**2) for i in range(10)]\n",
    "print(lst2)"
   ]
  },
  {
   "cell_type": "code",
   "execution_count": 27,
   "id": "23a6528f-dd76-44e2-b05c-309ee6d516a0",
   "metadata": {},
   "outputs": [
    {
     "name": "stdout",
     "output_type": "stream",
     "text": [
      "(1, 'hi', 9.8)\n",
      "<class 'tuple'>\n"
     ]
    }
   ],
   "source": [
    "#Tuple\n",
    "\n",
    "lst = (1,'hi',9.8)\n",
    "print(lst)\n",
    "print(type(lst))"
   ]
  },
  {
   "cell_type": "code",
   "execution_count": 29,
   "id": "3f94fc63-bb4a-4c1f-ad29-811f76fdb333",
   "metadata": {},
   "outputs": [
    {
     "name": "stdout",
     "output_type": "stream",
     "text": [
      "1\n"
     ]
    },
    {
     "data": {
      "text/plain": [
       "tuple"
      ]
     },
     "execution_count": 29,
     "metadata": {},
     "output_type": "execute_result"
    }
   ],
   "source": [
    "lst = ('hi',[1,'hello'],3.5,'hello')\n",
    "lst[1]\n",
    "print(lst[1][0])\n",
    "type(lst)"
   ]
  },
  {
   "cell_type": "code",
   "execution_count": 30,
   "id": "069af41f-d77b-4018-adec-9ae13f9b812f",
   "metadata": {},
   "outputs": [
    {
     "name": "stdout",
     "output_type": "stream",
     "text": [
      "('hi', [1, 'haha'], 3.5, 'hooh')\n"
     ]
    }
   ],
   "source": [
    "lst = ('hi',[1,'hello'],3.5,'hooh')\n",
    "lst[1][1] = 'haha'\n",
    "print(lst)"
   ]
  },
  {
   "cell_type": "code",
   "execution_count": null,
   "id": "77843a10-0adf-44ef-9b3a-90a7e37ca932",
   "metadata": {},
   "outputs": [],
   "source": []
  },
  {
   "cell_type": "markdown",
   "id": "b04f4766-c7d9-473e-8540-b9397a5d484e",
   "metadata": {},
   "source": [
    " Tuple Sort"
   ]
  },
  {
   "cell_type": "code",
   "execution_count": 31,
   "id": "d8145704-6c25-4c70-8b4a-9bb9229f669c",
   "metadata": {},
   "outputs": [],
   "source": [
    "lst = (1,2,3,4,5,6,6,7,7,8)"
   ]
  },
  {
   "cell_type": "code",
   "execution_count": 33,
   "id": "3b749ebd-d4a0-40aa-9d9b-dea63da9e8fd",
   "metadata": {},
   "outputs": [
    {
     "name": "stdout",
     "output_type": "stream",
     "text": [
      "[8, 7, 7, 6, 6, 5, 4, 3, 2, 1]\n"
     ]
    }
   ],
   "source": [
    "lst2 = sorted(lst,reverse = True)\n",
    "print(lst2)"
   ]
  },
  {
   "cell_type": "code",
   "execution_count": 34,
   "id": "9a06469d-264f-43de-8510-1b397930d98d",
   "metadata": {},
   "outputs": [
    {
     "data": {
      "text/plain": [
       "8"
      ]
     },
     "execution_count": 34,
     "metadata": {},
     "output_type": "execute_result"
    }
   ],
   "source": [
    "max(lst)"
   ]
  },
  {
   "cell_type": "code",
   "execution_count": 35,
   "id": "13659d6a-1c7e-4963-bacf-313dedd7af5e",
   "metadata": {},
   "outputs": [
    {
     "data": {
      "text/plain": [
       "1"
      ]
     },
     "execution_count": 35,
     "metadata": {},
     "output_type": "execute_result"
    }
   ],
   "source": [
    "min(lst)"
   ]
  },
  {
   "cell_type": "code",
   "execution_count": 36,
   "id": "9f1e6bd9-1fe9-4b09-9daf-0af0f30d5a9c",
   "metadata": {},
   "outputs": [
    {
     "data": {
      "text/plain": [
       "49"
      ]
     },
     "execution_count": 36,
     "metadata": {},
     "output_type": "execute_result"
    }
   ],
   "source": [
    "sum(lst)"
   ]
  },
  {
   "cell_type": "code",
   "execution_count": null,
   "id": "dd790e26-d0f9-4076-b428-b8bcfc820044",
   "metadata": {},
   "outputs": [],
   "source": []
  }
 ],
 "metadata": {
  "kernelspec": {
   "display_name": "Python 3 (ipykernel)",
   "language": "python",
   "name": "python3"
  },
  "language_info": {
   "codemirror_mode": {
    "name": "ipython",
    "version": 3
   },
   "file_extension": ".py",
   "mimetype": "text/x-python",
   "name": "python",
   "nbconvert_exporter": "python",
   "pygments_lexer": "ipython3",
   "version": "3.11.0"
  }
 },
 "nbformat": 4,
 "nbformat_minor": 5
}
